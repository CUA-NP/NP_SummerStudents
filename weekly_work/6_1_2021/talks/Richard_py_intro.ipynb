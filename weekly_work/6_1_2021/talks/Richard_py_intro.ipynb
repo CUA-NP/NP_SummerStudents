{
 "cells": [
  {
   "cell_type": "markdown",
   "metadata": {},
   "source": [
    "# GitHub, Jupyter, and Python\n",
    "\n",
    "In this outline I will...\n",
    "\n",
    "1. Give an introduction to... \n",
    "    * [GitHub](#github)\n",
    "    * [Jupyter Notebook](#jnb)\n",
    "2. [Present the basics of python](#python)\n",
    "3. [Excercise](#ex)\n",
    "\n",
    "**Note**: all my notes are for linux (which you can reproduce with a [linux subsystem](https://docs.microsoft.com/en-us/windows/wsl/install-win10), but I think the commands are the same with all os) <br>"
   ]
  },
  {
   "cell_type": "markdown",
   "metadata": {},
   "source": [
    "<a id='github'></a>\n",
    "## GitHub\n",
    "\n",
    "Three main uses for GitHub...\n",
    "\n",
    "1. Store and backup code, including various versions of that code (i.e branches)\n",
    "2. Share code easily with others (i.e. git clone)\n",
    "3. Easily have multiple contributors working on one set of code\n",
    "\n",
    "What not to use GitHub for...\n",
    "\n",
    "* Backing up files, pictures, etc. (GitHub has a 1GB repository size limit)\n",
    "\n",
    "### Installing GitHub\n",
    "\n",
    "Follow the instructions [here](https://gist.github.com/derhuerst/1b15ff4652a867391f03)\n",
    "\n",
    "\n",
    "### GitHub Terminology\n",
    "\n",
    "* repository <br>\n",
    "      > A repository is like a folder for your project. Your project's repository contains all of your project's files and stores each file's revision history. You can also discuss and manage your project's work within the repository.\n",
    "            e.g. https://github.com/CUA-NP/CUA_summer_students\n",
    "      > [source](https://docs.github.com/en/github/creating-cloning-and-archiving-repositories/about-repositories)\n",
    "      > Note: there are remote repositories (i.e. online) and local repositories (i.e. on your machine)\n",
    "* clone <br>\n",
    "      > Cloning a copy of the repository to your local machine\n",
    "            git clone https://github.com/CUA-NP/CUA_summer_students\n",
    "* fork <br>\n",
    "      > Makes a copy of a repository in your own GitHub account\n",
    "![](jnb_files/fork_1.png)\n",
    "![](jnb_files/fork_2.png)\n",
    "* branch <br>\n",
    "      > different versions of the repository\n",
    "![](jnb_files/branch_1.png) \n",
    "      > To check all branches in terminal...\n",
    "            git branch -avv\n",
    "      > To create new local branch...\n",
    "            git branch <new_branch>\n",
    "      > To change branches in the terminal...\n",
    "            git checkout <new_branch>  \n",
    "* status <br>\n",
    "      > To check the status of changes...\n",
    "            git status      \n",
    "* pull <br>\n",
    "      > Update your local repo with the remote one.\n",
    "            git pull\n",
    "* push <br>\n",
    "      > Update your remote repo with the local one.\n",
    "            git push\n",
    "* add <br>    \n",
    "      > To push changes they must first be added then commited...      \n",
    "            git add <file>\n",
    "      > To add all changes\n",
    "            git add .\n",
    "* commit <br>    \n",
    "      > Once you add the changes, you must commit them. It is good to commit with comments explaining the changes.\n",
    "      > To commit with comments...\n",
    "            git commit -m \"<your_comments>\"\n",
    "* alias <br>\n",
    "      > The name of the remote you are pushing and pulling from. The default alias is called *origin*. It is customary to call your version of a repo *origin* and the original repo *upstream*.\n",
    "      > To set up a new alias...\n",
    "            git remote add <new_alias>\n",
    "      > To check current aliases...\n",
    "            git remote -v\n",
    "      \n",
    "Now there is a lot more beyond this, but these are the main things starting out. \n",
    "\n",
    "One more useful feature is ignoring files from being added to remote repo <br>\n",
    "\n",
    "1. Create a .gitignore file, in the terminal <br>\n",
    "      > touch .gitignore\n",
    "2. Edit .gitignore with whatever files you want to ignore <br>\n",
    "      > Note: You can ignore all of a certain type of file with * (e.g. *.png will ignore all png files)"
   ]
  },
  {
   "cell_type": "markdown",
   "metadata": {},
   "source": [
    "<a id='jnb'></a>\n",
    "## Jupyter Notebook\n",
    "\n",
    "Jupyter notebook is a flexible software that allows one to...\n",
    "\n",
    "1. Write-ups (e.g. pdfs, markdown files, etc.) \n",
    "       Note: This entire document was created in jupyter notebook\n",
    "2. Run live code. This means I can put code directly into a jupyter notebook \"cell\" and it can produce an output directly in the notebook which can be put onto pdfs or whatever you want.\n",
    "\n",
    "I will expand on 2 when I get into the python and c++ introduction.\n",
    "\n",
    "### Installing Jupyter Notebook\n",
    "\n",
    "Follow the instructions [here](https://jupyter.readthedocs.io/en/latest/install.html). This installation will also require you to install python, which we need anyways!\n",
    "\n",
    "### Using Jupyter Notebook\n",
    "\n",
    "Jupyter is very easy to use. The hardest part is the syntax, but that's why we have google!\n",
    "\n",
    "![](jnb_files/jnb_1.png)"
   ]
  },
  {
   "cell_type": "markdown",
   "metadata": {},
   "source": [
    "%matplotlib inline\n",
    "<a id='python'></a>\n",
    "## Introduction to Python\n",
    "\n",
    "Python is a great starting language because of it's easy syntax and intuitive coding scheme. I am not going to give a full course on python, but enough to understand what you're doing this summer!\n",
    "\n",
    "### Basics of coding\n",
    "\n",
    "Code in its basic form is just a way for you to talk to a computer. You must remember that computers are very stupid so programming languages convert our understanding of things into a format computers understand.\n",
    "\n",
    "**Note**:By computers I am including firmware, OS, and other such technicalities, which in themselve are very important but beyond the scope of this quick intro.\n",
    "\n",
    "Now there are many intricacies and I am not even giving the broad strokes here, but for our purposes there are three main features of programming...\n",
    "* Variables and data structures\n",
    "* _for_ loops\n",
    "* functions/methods\n",
    "\n",
    "With these three ideas you will be set for this summer."
   ]
  },
  {
   "cell_type": "markdown",
   "metadata": {},
   "source": [
    "#### Variables and data structures\n",
    "\n",
    "In some languages, like C++, you must designate the type of variable, but luckily python you do not have to."
   ]
  },
  {
   "cell_type": "code",
   "execution_count": null,
   "metadata": {},
   "outputs": [],
   "source": [
    "# Set variables with an equals\n",
    "v_int = 1\n",
    "v_float = 2.0\n",
    "v_string = 'house'\n",
    "print(\"\"\"\n",
    "v_int is an integer of value {0}\n",
    "v_float is a float of value {1}\n",
    "v_string is a string of value {2}\n",
    "\"\"\".format(v_int,v_float,v_string))"
   ]
  },
  {
   "cell_type": "markdown",
   "metadata": {},
   "source": [
    "In python, there are a few data structures that hold ordered lists of objects but we will concentrate on two...\n",
    "\n",
    "* lists (mutable)\n",
    "* numpy arrays (mutable)\n",
    "    > This is a non-standard library (pip install numpy)\n",
    "    > Multidimensional tables of elements indexed by a tuple of integers.\n",
    "* tuples (immutable)\n",
    " \n",
    "More on these are outlined in the following sections."
   ]
  },
  {
   "cell_type": "markdown",
   "metadata": {},
   "source": [
    "#### _for_ loops\n",
    "\n",
    "_for_ loops are iterative processes that can do a variety of things. A basic example is printing values of a list..."
   ]
  },
  {
   "cell_type": "code",
   "execution_count": 1,
   "metadata": {},
   "outputs": [
    {
     "name": "stdout",
     "output_type": "stream",
     "text": [
      "1\n",
      "2\n",
      "3\n",
      "4\n"
     ]
    }
   ],
   "source": [
    "# You make comments with a hashtag\n",
    "# Below is an data structure called a list\n",
    "a = [1,2,3,4]\n",
    "# I am going to produce a for loop that will print the values of a\n",
    "for val in a:\n",
    "    # Notice how I must indent here. Indentation is a crucial aspect of python as it breaks down subprocesses.\n",
    "    # Indents will occur in loops and methods/functions as we will see\n",
    "    # the print will print the value of a (easy!)\n",
    "    print(val)"
   ]
  },
  {
   "cell_type": "markdown",
   "metadata": {},
   "source": [
    "You can also nest for loops for more complicated procedures. Although this is computationally expensive and time consuming.\n",
    "\n",
    "Now I will take our list, a, and store the values into a new list, b. Then in a nested loop, I will print the new list. You will see how it grows!"
   ]
  },
  {
   "cell_type": "code",
   "execution_count": 2,
   "metadata": {},
   "outputs": [
    {
     "name": "stdout",
     "output_type": "stream",
     "text": [
      "1\n",
      "\n",
      "\n",
      "1\n",
      "2\n",
      "\n",
      "\n",
      "1\n",
      "2\n",
      "3\n",
      "\n",
      "\n",
      "1\n",
      "2\n",
      "3\n",
      "4\n",
      "\n",
      "\n",
      "[1, 2, 3, 4]\n",
      "[1, 2, 3, 4]\n"
     ]
    }
   ],
   "source": [
    "# First I need to create list b\n",
    "b= [] \n",
    "# Notice how it is empty!\n",
    "for a_val in a:\n",
    "    b.append(a_val)\n",
    "    for b_val in b:\n",
    "        print(b_val)\n",
    "    print(\"\\n\") # Prints a new line\n",
    "# Now I will print a and b to see if they match\n",
    "print(a)\n",
    "print(b)"
   ]
  },
  {
   "cell_type": "markdown",
   "metadata": {},
   "source": [
    "There are many faster ways to do loops in python, but we will learn about those later.\n",
    "\n",
    "#### functions/methods\n",
    "\n",
    "A function or method is a way to avoid writing the same code over and over again. Say for instance I wanted to perform the above nested loop with another array. I would have to copy and past all that code which over time can be tedious and make your code cumbersome.\n",
    "\n",
    "A better way is using a method or function.\n",
    "\n",
    "Let's get a little fancier now. We are going to use a thing called a package. In python these are modules that can be imported into your code. They have a variety of capabilities as we will see and is probably the best thing about python in my opinion. The package we will import is called Numpy and these are dynamic and fexible arrays with a variety of built in functions!"
   ]
  },
  {
   "cell_type": "code",
   "execution_count": 5,
   "metadata": {},
   "outputs": [
    {
     "name": "stdout",
     "output_type": "stream",
     "text": [
      "[0 1 2 3 4 5]\n",
      "<class 'numpy.ndarray'>\n",
      "<class 'list'>\n"
     ]
    }
   ],
   "source": [
    "# First we import numpy\n",
    "import numpy as np\n",
    "# Next instead of typing out all the elements of our array, numpy as a few great functions to speed things up!\n",
    "a_new = np.arange(6)\n",
    "# And like that we have made the equivalent of a_new = [0,1,2,3,4,5]\n",
    "print(a_new)\n",
    "print(type(a_new))\n",
    "print(type(a))"
   ]
  },
  {
   "cell_type": "code",
   "execution_count": 6,
   "metadata": {},
   "outputs": [
    {
     "name": "stdout",
     "output_type": "stream",
     "text": [
      "1\n",
      "\n",
      "\n",
      "1\n",
      "2\n",
      "\n",
      "\n",
      "1\n",
      "2\n",
      "3\n",
      "\n",
      "\n",
      "1\n",
      "2\n",
      "3\n",
      "4\n",
      "\n",
      "\n",
      "[1, 2, 3, 4]\n",
      "[1, 2, 3, 4]\n",
      "a [1, 2, 3, 4] a function [1, 2, 3, 4]\n",
      "0\n",
      "\n",
      "\n",
      "0\n",
      "1\n",
      "\n",
      "\n",
      "0\n",
      "1\n",
      "2\n",
      "\n",
      "\n",
      "0\n",
      "1\n",
      "2\n",
      "3\n",
      "\n",
      "\n",
      "0\n",
      "1\n",
      "2\n",
      "3\n",
      "4\n",
      "\n",
      "\n",
      "0\n",
      "1\n",
      "2\n",
      "3\n",
      "4\n",
      "5\n",
      "\n",
      "\n",
      "[0 1 2 3 4 5]\n",
      "[0, 1, 2, 3, 4, 5]\n",
      "a_new [0 1 2 3 4 5] a_new function [0, 1, 2, 3, 4, 5]\n"
     ]
    }
   ],
   "source": [
    "# Now lets make our function\n",
    "# We will call it loop_array(inp) and will take an argument called inp which is where we can insert our new array\n",
    "def loop_array(inp):\n",
    "    b_new= [] \n",
    "    for val in inp:\n",
    "        b_new.append(val)\n",
    "        for b_val in b_new:\n",
    "            print(b_val)\n",
    "        print(\"\\n\")\n",
    "    print(inp)\n",
    "    print(b_new)\n",
    "    # all we need to do is return b_new and we have our function\n",
    "    return b_new\n",
    "\n",
    "# Now let's print our function with both a and a_new!\n",
    "\n",
    "print(\"a\",a,\"a function\",loop_array(a)) # See we can print multiple things in one print function!\n",
    "print(\"a_new\",a_new,\"a_new function\",loop_array(a_new))\n"
   ]
  },
  {
   "cell_type": "markdown",
   "metadata": {},
   "source": [
    "Hmmm, something looks weird between a_new and loop_array(a_new).\n",
    "\n",
    "This is because we defined a_new as a numpy array and loop_array(a_new) as a list. The two are compatable but issues can arise. We can always make a_new a list by calling the built in list function... (a similar process can be done to change them to tuples)"
   ]
  },
  {
   "cell_type": "code",
   "execution_count": 7,
   "metadata": {},
   "outputs": [
    {
     "name": "stdout",
     "output_type": "stream",
     "text": [
      "[0 1 2 3 4 5]\n",
      "[0, 1, 2, 3, 4, 5]\n",
      "(0, 1, 2, 3, 4, 5)\n"
     ]
    }
   ],
   "source": [
    "print(a_new)\n",
    "print(list(a_new))\n",
    "print(tuple(a_new))"
   ]
  },
  {
   "cell_type": "markdown",
   "metadata": {},
   "source": [
    "### Plotting in python\n",
    "\n",
    "There is a great python package called _matplotlib_ which allows one to make plots quickly and easily!\n",
    "\n",
    "Let's start by plotting a vs a_new!"
   ]
  },
  {
   "cell_type": "code",
   "execution_count": 8,
   "metadata": {},
   "outputs": [
    {
     "ename": "ValueError",
     "evalue": "x and y must have same first dimension, but have shapes (4,) and (6,)",
     "output_type": "error",
     "traceback": [
      "\u001b[1;31m---------------------------------------------------------------------------\u001b[0m",
      "\u001b[1;31mValueError\u001b[0m                                Traceback (most recent call last)",
      "\u001b[1;32m<ipython-input-8-598065ae975e>\u001b[0m in \u001b[0;36m<module>\u001b[1;34m\u001b[0m\n\u001b[0;32m      1\u001b[0m \u001b[1;32mimport\u001b[0m \u001b[0mmatplotlib\u001b[0m\u001b[1;33m.\u001b[0m\u001b[0mpyplot\u001b[0m \u001b[1;32mas\u001b[0m \u001b[0mplt\u001b[0m\u001b[1;33m\u001b[0m\u001b[1;33m\u001b[0m\u001b[0m\n\u001b[0;32m      2\u001b[0m \u001b[1;33m\u001b[0m\u001b[0m\n\u001b[1;32m----> 3\u001b[1;33m \u001b[0mplt\u001b[0m\u001b[1;33m.\u001b[0m\u001b[0mplot\u001b[0m\u001b[1;33m(\u001b[0m\u001b[0ma\u001b[0m\u001b[1;33m,\u001b[0m\u001b[0ma_new\u001b[0m\u001b[1;33m)\u001b[0m\u001b[1;33m\u001b[0m\u001b[1;33m\u001b[0m\u001b[0m\n\u001b[0m\u001b[0;32m      4\u001b[0m \u001b[1;31m# We need to label our axes and title our plot!\u001b[0m\u001b[1;33m\u001b[0m\u001b[1;33m\u001b[0m\u001b[1;33m\u001b[0m\u001b[0m\n\u001b[0;32m      5\u001b[0m \u001b[0mplt\u001b[0m\u001b[1;33m.\u001b[0m\u001b[0mtitle\u001b[0m\u001b[1;33m(\u001b[0m\u001b[1;34m'a_new vs a'\u001b[0m\u001b[1;33m,\u001b[0m \u001b[0mfontsize\u001b[0m \u001b[1;33m=\u001b[0m\u001b[1;36m20\u001b[0m\u001b[1;33m)\u001b[0m\u001b[1;33m\u001b[0m\u001b[1;33m\u001b[0m\u001b[0m\n",
      "\u001b[1;32mc:\\users\\papatrott\\appdata\\local\\programs\\python\\python37-32\\lib\\site-packages\\matplotlib\\pyplot.py\u001b[0m in \u001b[0;36mplot\u001b[1;34m(scalex, scaley, data, *args, **kwargs)\u001b[0m\n\u001b[0;32m   2761\u001b[0m     return gca().plot(\n\u001b[0;32m   2762\u001b[0m         *args, scalex=scalex, scaley=scaley, **({\"data\": data} if data\n\u001b[1;32m-> 2763\u001b[1;33m         is not None else {}), **kwargs)\n\u001b[0m\u001b[0;32m   2764\u001b[0m \u001b[1;33m\u001b[0m\u001b[0m\n\u001b[0;32m   2765\u001b[0m \u001b[1;33m\u001b[0m\u001b[0m\n",
      "\u001b[1;32mc:\\users\\papatrott\\appdata\\local\\programs\\python\\python37-32\\lib\\site-packages\\matplotlib\\axes\\_axes.py\u001b[0m in \u001b[0;36mplot\u001b[1;34m(self, scalex, scaley, data, *args, **kwargs)\u001b[0m\n\u001b[0;32m   1645\u001b[0m         \"\"\"\n\u001b[0;32m   1646\u001b[0m         \u001b[0mkwargs\u001b[0m \u001b[1;33m=\u001b[0m \u001b[0mcbook\u001b[0m\u001b[1;33m.\u001b[0m\u001b[0mnormalize_kwargs\u001b[0m\u001b[1;33m(\u001b[0m\u001b[0mkwargs\u001b[0m\u001b[1;33m,\u001b[0m \u001b[0mmlines\u001b[0m\u001b[1;33m.\u001b[0m\u001b[0mLine2D\u001b[0m\u001b[1;33m)\u001b[0m\u001b[1;33m\u001b[0m\u001b[1;33m\u001b[0m\u001b[0m\n\u001b[1;32m-> 1647\u001b[1;33m         \u001b[0mlines\u001b[0m \u001b[1;33m=\u001b[0m \u001b[1;33m[\u001b[0m\u001b[1;33m*\u001b[0m\u001b[0mself\u001b[0m\u001b[1;33m.\u001b[0m\u001b[0m_get_lines\u001b[0m\u001b[1;33m(\u001b[0m\u001b[1;33m*\u001b[0m\u001b[0margs\u001b[0m\u001b[1;33m,\u001b[0m \u001b[0mdata\u001b[0m\u001b[1;33m=\u001b[0m\u001b[0mdata\u001b[0m\u001b[1;33m,\u001b[0m \u001b[1;33m**\u001b[0m\u001b[0mkwargs\u001b[0m\u001b[1;33m)\u001b[0m\u001b[1;33m]\u001b[0m\u001b[1;33m\u001b[0m\u001b[1;33m\u001b[0m\u001b[0m\n\u001b[0m\u001b[0;32m   1648\u001b[0m         \u001b[1;32mfor\u001b[0m \u001b[0mline\u001b[0m \u001b[1;32min\u001b[0m \u001b[0mlines\u001b[0m\u001b[1;33m:\u001b[0m\u001b[1;33m\u001b[0m\u001b[1;33m\u001b[0m\u001b[0m\n\u001b[0;32m   1649\u001b[0m             \u001b[0mself\u001b[0m\u001b[1;33m.\u001b[0m\u001b[0madd_line\u001b[0m\u001b[1;33m(\u001b[0m\u001b[0mline\u001b[0m\u001b[1;33m)\u001b[0m\u001b[1;33m\u001b[0m\u001b[1;33m\u001b[0m\u001b[0m\n",
      "\u001b[1;32mc:\\users\\papatrott\\appdata\\local\\programs\\python\\python37-32\\lib\\site-packages\\matplotlib\\axes\\_base.py\u001b[0m in \u001b[0;36m__call__\u001b[1;34m(self, *args, **kwargs)\u001b[0m\n\u001b[0;32m    214\u001b[0m                 \u001b[0mthis\u001b[0m \u001b[1;33m+=\u001b[0m \u001b[0margs\u001b[0m\u001b[1;33m[\u001b[0m\u001b[1;36m0\u001b[0m\u001b[1;33m]\u001b[0m\u001b[1;33m,\u001b[0m\u001b[1;33m\u001b[0m\u001b[1;33m\u001b[0m\u001b[0m\n\u001b[0;32m    215\u001b[0m                 \u001b[0margs\u001b[0m \u001b[1;33m=\u001b[0m \u001b[0margs\u001b[0m\u001b[1;33m[\u001b[0m\u001b[1;36m1\u001b[0m\u001b[1;33m:\u001b[0m\u001b[1;33m]\u001b[0m\u001b[1;33m\u001b[0m\u001b[1;33m\u001b[0m\u001b[0m\n\u001b[1;32m--> 216\u001b[1;33m             \u001b[1;32myield\u001b[0m \u001b[1;32mfrom\u001b[0m \u001b[0mself\u001b[0m\u001b[1;33m.\u001b[0m\u001b[0m_plot_args\u001b[0m\u001b[1;33m(\u001b[0m\u001b[0mthis\u001b[0m\u001b[1;33m,\u001b[0m \u001b[0mkwargs\u001b[0m\u001b[1;33m)\u001b[0m\u001b[1;33m\u001b[0m\u001b[1;33m\u001b[0m\u001b[0m\n\u001b[0m\u001b[0;32m    217\u001b[0m \u001b[1;33m\u001b[0m\u001b[0m\n\u001b[0;32m    218\u001b[0m     \u001b[1;32mdef\u001b[0m \u001b[0mget_next_color\u001b[0m\u001b[1;33m(\u001b[0m\u001b[0mself\u001b[0m\u001b[1;33m)\u001b[0m\u001b[1;33m:\u001b[0m\u001b[1;33m\u001b[0m\u001b[1;33m\u001b[0m\u001b[0m\n",
      "\u001b[1;32mc:\\users\\papatrott\\appdata\\local\\programs\\python\\python37-32\\lib\\site-packages\\matplotlib\\axes\\_base.py\u001b[0m in \u001b[0;36m_plot_args\u001b[1;34m(self, tup, kwargs)\u001b[0m\n\u001b[0;32m    340\u001b[0m \u001b[1;33m\u001b[0m\u001b[0m\n\u001b[0;32m    341\u001b[0m         \u001b[1;32mif\u001b[0m \u001b[0mx\u001b[0m\u001b[1;33m.\u001b[0m\u001b[0mshape\u001b[0m\u001b[1;33m[\u001b[0m\u001b[1;36m0\u001b[0m\u001b[1;33m]\u001b[0m \u001b[1;33m!=\u001b[0m \u001b[0my\u001b[0m\u001b[1;33m.\u001b[0m\u001b[0mshape\u001b[0m\u001b[1;33m[\u001b[0m\u001b[1;36m0\u001b[0m\u001b[1;33m]\u001b[0m\u001b[1;33m:\u001b[0m\u001b[1;33m\u001b[0m\u001b[1;33m\u001b[0m\u001b[0m\n\u001b[1;32m--> 342\u001b[1;33m             raise ValueError(f\"x and y must have same first dimension, but \"\n\u001b[0m\u001b[0;32m    343\u001b[0m                              f\"have shapes {x.shape} and {y.shape}\")\n\u001b[0;32m    344\u001b[0m         \u001b[1;32mif\u001b[0m \u001b[0mx\u001b[0m\u001b[1;33m.\u001b[0m\u001b[0mndim\u001b[0m \u001b[1;33m>\u001b[0m \u001b[1;36m2\u001b[0m \u001b[1;32mor\u001b[0m \u001b[0my\u001b[0m\u001b[1;33m.\u001b[0m\u001b[0mndim\u001b[0m \u001b[1;33m>\u001b[0m \u001b[1;36m2\u001b[0m\u001b[1;33m:\u001b[0m\u001b[1;33m\u001b[0m\u001b[1;33m\u001b[0m\u001b[0m\n",
      "\u001b[1;31mValueError\u001b[0m: x and y must have same first dimension, but have shapes (4,) and (6,)"
     ]
    },
    {
     "data": {
      "image/png": "[encoded data removed]",
      "text/plain": [
       "<Figure size 432x288 with 1 Axes>"
      ]
     },
     "metadata": {
      "needs_background": "light"
     },
     "output_type": "display_data"
    }
   ],
   "source": [
    "import matplotlib.pyplot as plt\n",
    "\n",
    "plt.plot(a,a_new)\n",
    "# We need to label our axes and title our plot!\n",
    "plt.title('a_new vs a', fontsize =20)\n",
    "plt.xlabel('a')\n",
    "plt.ylabel('a_new')\n",
    "# Let's show our plot too!\n",
    "plt.show()"
   ]
  },
  {
   "cell_type": "markdown",
   "metadata": {},
   "source": [
    "It seems we have come across our first error in python! The easiest way to fix these errors when you are first learning is copy and pasting the error into google. I then suggest looking for [stack overflow](https://stackoverflow.com/questions/43059482/python-valueerror-x-and-y-must-have-same-first-dimension) answers because people tend to give great explainations! \n",
    "\n",
    "According to our findings, we need to match the number of elements in a and a_new. This makes sense of course!\n",
    "\n",
    "We have two routes to take...\n",
    "\n",
    "* Subtract two elements from a_new\n",
    "* Add two elements to a\n",
    "\n",
    "Let's subtract the elements from a_new first..."
   ]
  },
  {
   "cell_type": "code",
   "execution_count": 9,
   "metadata": {},
   "outputs": [
    {
     "name": "stdout",
     "output_type": "stream",
     "text": [
      "[0 1 2 3]\n"
     ]
    },
    {
     "data": {
      "image/png": "[encoded data removed]",
      "text/plain": [
       "<Figure size 432x288 with 1 Axes>"
      ]
     },
     "metadata": {
      "needs_background": "light"
     },
     "output_type": "display_data"
    }
   ],
   "source": [
    "# We use the resize function of numpy to resize the array to the size we need (i.e. 4 elements)\n",
    "a_new = np.resize(a_new,a_new.size-2)\n",
    "print(a_new)\n",
    "\n",
    "plt.plot(a,a_new)\n",
    "plt.title('a_new vs a', fontsize =20)\n",
    "plt.xlabel('a')\n",
    "plt.ylabel('a_new')\n",
    "plt.show()"
   ]
  },
  {
   "cell_type": "markdown",
   "metadata": {},
   "source": [
    "Let's now add two elements to a..."
   ]
  },
  {
   "cell_type": "code",
   "execution_count": 10,
   "metadata": {},
   "outputs": [
    {
     "name": "stdout",
     "output_type": "stream",
     "text": [
      "[1 2 3 4 0 5]\n"
     ]
    },
    {
     "data": {
      "image/png": "[encoded data removed]",
      "text/plain": [
       "<Figure size 432x288 with 1 Axes>"
      ]
     },
     "metadata": {
      "needs_background": "light"
     },
     "output_type": "display_data"
    }
   ],
   "source": [
    "# First let's redefine a_new so it has 6 elements again\n",
    "a_new = np.arange(6)\n",
    "\n",
    "# Next let's add two elements (4,5) to a\n",
    "a  = np.append(a,(0,5))\n",
    "print(a)\n",
    "\n",
    "plt.plot(a,a_new)\n",
    "plt.title('a_new vs a', fontsize =20)\n",
    "plt.xlabel('a')\n",
    "plt.ylabel('a_new')\n",
    "plt.show()"
   ]
  },
  {
   "cell_type": "markdown",
   "metadata": {},
   "source": [
    "Hmm, it seems the order of our array has gotten a little messed up. We can either append 0 to the front and 5 to the back of the array or, in this case, we only care about numerical order so there is a numpy function for that!"
   ]
  },
  {
   "cell_type": "code",
   "execution_count": 11,
   "metadata": {},
   "outputs": [
    {
     "name": "stdout",
     "output_type": "stream",
     "text": [
      "[0 1 2 3 4 5]\n"
     ]
    },
    {
     "data": {
      "image/png": "[encoded data removed]",
      "text/plain": [
       "<Figure size 432x288 with 1 Axes>"
      ]
     },
     "metadata": {
      "needs_background": "light"
     },
     "output_type": "display_data"
    }
   ],
   "source": [
    "a = np.sort(a)\n",
    "print(a)\n",
    "\n",
    "plt.plot(a,a_new)\n",
    "plt.title('a_new vs a', fontsize =20)\n",
    "plt.xlabel('a')\n",
    "plt.ylabel('a_new')\n",
    "plt.show()"
   ]
  },
  {
   "cell_type": "markdown",
   "metadata": {},
   "source": [
    "Now two more things we can do with this data. We would like to see each point not them connected with a line so we will change our plot to a scatter one..."
   ]
  },
  {
   "cell_type": "code",
   "execution_count": 12,
   "metadata": {},
   "outputs": [
    {
     "data": {
      "image/png": "[encoded data removed]",
      "text/plain": [
       "<Figure size 432x288 with 1 Axes>"
      ]
     },
     "metadata": {
      "needs_background": "light"
     },
     "output_type": "display_data"
    }
   ],
   "source": [
    "plt.scatter(a,a_new)\n",
    "plt.title('a_new vs a', fontsize =20)\n",
    "plt.xlabel('a')\n",
    "plt.ylabel('a_new')\n",
    "plt.show()"
   ]
  },
  {
   "cell_type": "markdown",
   "metadata": {},
   "source": [
    "The last thing we need is to fit the data! The data points are linear so we can use our classic linear fit (y=mx+b)."
   ]
  },
  {
   "cell_type": "code",
   "execution_count": 13,
   "metadata": {},
   "outputs": [
    {
     "data": {
      "image/png": "[encoded data removed]",
      "text/plain": [
       "<Figure size 432x288 with 1 Axes>"
      ]
     },
     "metadata": {
      "needs_background": "light"
     },
     "output_type": "display_data"
    }
   ],
   "source": [
    "# Define our slope and intercept\n",
    "m,b = np.polyfit(a,a_new,1)\n",
    "\n",
    "plt.scatter(a,a_new)\n",
    "# Plot our fit\n",
    "plt.plot(a, m*a + b)\n",
    "plt.title('a_new vs a', fontsize =20)\n",
    "plt.xlabel('a')\n",
    "plt.ylabel('a_new')\n",
    "plt.show()"
   ]
  },
  {
   "cell_type": "markdown",
   "metadata": {},
   "source": [
    "<a id='ex'></a>\n",
    "## Exercise\n",
    "\n",
    "This should be a fairly simple excercise, but it will cover all the basics outlined. Use the resources you have available (Google is your best friend, especially [Stack Overflow](https://stackoverflow.com/). Also ask me on [slack](https://cua-reu-2021.slack.com/) if you're stuck!\n",
    "\n",
    "1. Fork a copy of the [CUA_summer_students](https://github.com/CUA-NP/CUA_summer_students) repo into your own account\n",
    "2. Clone that version into your local machine\n",
    "3. Create a new remote and local branch called _develop_\n",
    "4. In your local repo navigate to the [weekly_work/6_1_2021](weekly_work/6_1_2021) directory and create a new one called _excercise_\n",
    "    * The rest of your work for this excercise will be done in here!\n",
    "5. Create a new jupyter notebook called _hello_world.ipynb_\n",
    "6. In this new jupyter notebook I want you to plot the following points...\n",
    "    * pts = np.array([(1,2,3,4),(5,6,7,8)]) which is a 2D array (i.e. pts = [x,y])\n",
    "7. Apply a linear fit \n",
    "8. Remove the 2nd element of x and the 3rd element of y\n",
    "9. Plot your new x and y arrays but include the original x and y too\n",
    "10. Linear fit the new x and y but include the original fit too\n",
    "11. Push your changes to your GitHub repo\n",
    "12. Post a link to your new directory in the Slack channel"
   ]
  },
  {
   "cell_type": "code",
   "execution_count": null,
   "metadata": {},
   "outputs": [],
   "source": []
  }
 ],
 "metadata": {
  "kernelspec": {
   "display_name": "Python 3",
   "language": "python",
   "name": "python3"
  },
  "language_info": {
   "codemirror_mode": {
    "name": "ipython",
    "version": 3
   },
   "file_extension": ".py",
   "mimetype": "text/x-python",
   "name": "python",
   "nbconvert_exporter": "python",
   "pygments_lexer": "ipython3",
   "version": "3.7.4"
  },
  "metadata": {
   "interpreter": {
    "hash": "52db13f975085fdd27749ae0c513bf7bf468e4b56b3d7bd749488dc6c8ff7612"
   }
  }
 },
 "nbformat": 4,
 "nbformat_minor": 4
}
