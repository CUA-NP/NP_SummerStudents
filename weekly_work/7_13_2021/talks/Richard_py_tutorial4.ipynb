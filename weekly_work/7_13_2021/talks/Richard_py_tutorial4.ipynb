{
 "cells": [
  {
   "cell_type": "markdown",
   "source": [
    "# Python Tutorial 4\r\n",
    "\r\n",
    "Today will be a short intro to Pandas followed by a walk-through example.\r\n",
    "\r\n",
    "1. [List comprehension](#l)\r\n",
    "2. [Nested Scripts](#ns)\r\n",
    "3. [Advanced Numpy](#an)\r\n",
    "4. [Excercise](#ex)"
   ],
   "metadata": {}
  },
  {
   "cell_type": "markdown",
   "source": [
    "<a id='l'></a>\r\n",
    "## List comprehension"
   ],
   "metadata": {}
  },
  {
   "cell_type": "code",
   "execution_count": 54,
   "source": [
    "import numpy as np"
   ],
   "outputs": [],
   "metadata": {}
  },
  {
   "cell_type": "code",
   "execution_count": 55,
   "source": [
    "%%timeit\r\n",
    "\r\n",
    "a = []\r\n",
    "for l in range(100000):\r\n",
    "    a.append(l)"
   ],
   "outputs": [
    {
     "output_type": "stream",
     "name": "stdout",
     "text": [
      "7.39 ms ± 362 µs per loop (mean ± std. dev. of 7 runs, 100 loops each)\n"
     ]
    }
   ],
   "metadata": {}
  },
  {
   "cell_type": "code",
   "execution_count": 56,
   "source": [
    "%timeit b = [l for l in range(100000)] "
   ],
   "outputs": [
    {
     "output_type": "stream",
     "name": "stdout",
     "text": [
      "3.13 ms ± 97.7 µs per loop (mean ± std. dev. of 7 runs, 100 loops each)\n"
     ]
    }
   ],
   "metadata": {}
  },
  {
   "cell_type": "markdown",
   "source": [
    "<a id='ns'></a>\r\n",
    "## Nested Scripts"
   ],
   "metadata": {}
  },
  {
   "cell_type": "code",
   "execution_count": 57,
   "source": [
    "import test"
   ],
   "outputs": [],
   "metadata": {}
  },
  {
   "cell_type": "code",
   "execution_count": 58,
   "source": [
    "ls"
   ],
   "outputs": [
    {
     "output_type": "stream",
     "name": "stdout",
     "text": [
      " Volume in drive C has no label.\n",
      " Volume Serial Number is 9C1B-09F5\n",
      "\n",
      " Directory of c:\\Users\\papatrott\\Documents\\CUA_summer_students\\weekly_work\\7_13_2021\\talks\n",
      "\n",
      "07/14/2021  11:28 PM    <DIR>          .\n",
      "07/14/2021  11:28 PM    <DIR>          ..\n",
      "07/14/2021  11:25 PM    <DIR>          .ipynb_checkpoints\n",
      "07/14/2021  11:28 PM    <DIR>          __pycache__\n",
      "07/15/2021  12:28 AM    <DIR>          jnb_files\n",
      "07/15/2021  12:58 AM             5,472 Richard_py_tutorial4.ipynb\n",
      "07/14/2021  11:28 PM               334 test.py\n",
      "               2 File(s)          5,806 bytes\n",
      "               5 Dir(s)  63,015,145,472 bytes free\n"
     ]
    }
   ],
   "metadata": {}
  },
  {
   "cell_type": "code",
   "execution_count": 59,
   "source": [
    "test.runScript()"
   ],
   "outputs": [
    {
     "output_type": "stream",
     "name": "stdout",
     "text": [
      "Hello...\n"
     ]
    }
   ],
   "metadata": {}
  },
  {
   "cell_type": "markdown",
   "source": [
    "<a id='an'></a>\r\n",
    "## Advanced Numpy \r\n",
    "\r\n",
    "Here we are going to quickly cover some more advanced numpy techniques.\r\n",
    "\r\n",
    "### Advanced Indexing\r\n",
    "\r\n",
    "Numpy can be indexed by sequences beyond just integers (e.g. lists, tuples, arrays of integers, etc.)."
   ],
   "metadata": {}
  },
  {
   "cell_type": "code",
   "execution_count": 60,
   "source": [
    "a = np.linspace(0.,0.5,6)\r\n",
    "print(a)"
   ],
   "outputs": [
    {
     "output_type": "stream",
     "name": "stdout",
     "text": [
      "[0.  0.1 0.2 0.3 0.4 0.5]\n"
     ]
    }
   ],
   "metadata": {}
  },
  {
   "cell_type": "code",
   "execution_count": 61,
   "source": [
    "# Define our indexes\r\n",
    "ia = [1,4,5]"
   ],
   "outputs": [],
   "metadata": {}
  },
  {
   "cell_type": "code",
   "execution_count": 62,
   "source": [
    "# Plugging in our index list to our array we get only the elements at 1,4,5\r\n",
    "print(a[ia])"
   ],
   "outputs": [
    {
     "output_type": "stream",
     "name": "stdout",
     "text": [
      "[0.1 0.4 0.5]\n"
     ]
    }
   ],
   "metadata": {}
  },
  {
   "cell_type": "code",
   "execution_count": 63,
   "source": [
    "# Redefine our indexing as a numpy array of integers\r\n",
    "ia = np.array(((1,2),(2,1)))"
   ],
   "outputs": [],
   "metadata": {}
  },
  {
   "cell_type": "code",
   "execution_count": 64,
   "source": [
    "# Plugging in our index array we now get a 2D array for a where the first dimension is elements 1,2 and the second is elements 2,1\r\n",
    "print(a[ia])"
   ],
   "outputs": [
    {
     "output_type": "stream",
     "name": "stdout",
     "text": [
      "[[0.1 0.2]\n",
      " [0.2 0.1]]\n"
     ]
    }
   ],
   "metadata": {}
  },
  {
   "cell_type": "code",
   "execution_count": 65,
   "source": [
    "# Now we redefine our indexing as an array of boolean statements\r\n",
    "ia = np.array([False,True,False,True,True,False])"
   ],
   "outputs": [],
   "metadata": {}
  },
  {
   "cell_type": "code",
   "execution_count": 66,
   "source": [
    "# Plugging in our index array we now remove all False elements\r\n",
    "print(a[ia])"
   ],
   "outputs": [
    {
     "output_type": "stream",
     "name": "stdout",
     "text": [
      "[0.1 0.3 0.4]\n"
     ]
    }
   ],
   "metadata": {}
  },
  {
   "cell_type": "markdown",
   "source": [
    "### Adding dimensions to an array\r\n",
    "\r\n",
    "Now wer want to add a dimension (or axis) to an array"
   ],
   "metadata": {}
  },
  {
   "cell_type": "code",
   "execution_count": 67,
   "source": [
    "a = np.linspace(1,4,4)\r\n",
    "print(a)"
   ],
   "outputs": [
    {
     "output_type": "stream",
     "name": "stdout",
     "text": [
      "[1. 2. 3. 4.]\n"
     ]
    }
   ],
   "metadata": {}
  },
  {
   "cell_type": "code",
   "execution_count": 69,
   "source": [
    "# We use the reshape method to change a into a 2D array (ie rank 2) where each dimension has two elements\r\n",
    "a = a.reshape(2,2)\r\n",
    "print(a)"
   ],
   "outputs": [
    {
     "output_type": "stream",
     "name": "stdout",
     "text": [
      "[[1. 2.]\n",
      " [3. 4.]]\n"
     ]
    }
   ],
   "metadata": {}
  },
  {
   "cell_type": "code",
   "execution_count": 71,
   "source": [
    "# Similarly we can make it 4D where each dimension has 1 element\r\n",
    "a = np.linspace(1,4,4)\r\n",
    "a = a.reshape(4,1)\r\n",
    "print(a)"
   ],
   "outputs": [
    {
     "output_type": "stream",
     "name": "stdout",
     "text": [
      "[[1.]\n",
      " [2.]\n",
      " [3.]\n",
      " [4.]]\n"
     ]
    }
   ],
   "metadata": {}
  },
  {
   "cell_type": "markdown",
   "source": [
    "### Meshes\r\n",
    "\r\n",
    "A meshgrid is used for multidimensional functions on a grid of points. It is a way to represent N-dimensional coordinates.\r\n",
    "\r\n",
    "You can't plot two arrays of different sizes so meshgrid is a great way to avoid this issue by creating a grid."
   ],
   "metadata": {}
  },
  {
   "cell_type": "code",
   "execution_count": 74,
   "source": [
    "x = np.linspace(0,5,6)\r\n",
    "y = np.linspace(0,3,4)\r\n",
    "print(x)\r\n",
    "print(y)"
   ],
   "outputs": [
    {
     "output_type": "stream",
     "name": "stdout",
     "text": [
      "[0. 1. 2. 3. 4. 5.]\n",
      "[0. 1. 2. 3.]\n"
     ]
    }
   ],
   "metadata": {}
  },
  {
   "cell_type": "code",
   "execution_count": 77,
   "source": [
    "x,y = np.meshgrid(x,y)\r\n",
    "print(x)\r\n",
    "print(y)"
   ],
   "outputs": [
    {
     "output_type": "stream",
     "name": "stdout",
     "text": [
      "[[0. 1. 2. 3. 4. 5.]\n",
      " [0. 1. 2. 3. 4. 5.]\n",
      " [0. 1. 2. 3. 4. 5.]\n",
      " [0. 1. 2. 3. 4. 5.]]\n",
      "[[0. 0. 0. 0. 0. 0.]\n",
      " [1. 1. 1. 1. 1. 1.]\n",
      " [2. 2. 2. 2. 2. 2.]\n",
      " [3. 3. 3. 3. 3. 3.]]\n"
     ]
    }
   ],
   "metadata": {}
  },
  {
   "cell_type": "code",
   "execution_count": 79,
   "source": [
    "import matplotlib.pyplot as plt\r\n",
    "\r\n",
    "fig = plt.figure()\r\n",
    "ax = fig.add_subplot(111)\r\n",
    "ax.scatter(x,y)\r\n",
    "plt.show()"
   ],
   "outputs": [
    {
     "output_type": "display_data",
     "data": {
      "text/plain": [
       "<Figure size 432x288 with 1 Axes>"
      ],
      "image/png": "[encoded data removed]"
     },
     "metadata": {
      "needs_background": "light"
     }
    }
   ],
   "metadata": {}
  },
  {
   "cell_type": "markdown",
   "source": [
    "<a id='ex'></a>\r\n",
    "## Excercise\r\n",
    "\r\n",
    "### Excercise 1\r\n",
    "\r\n",
    "Let's try to produce a plot of the [electrostatic potential of a point dipole](https://en.wikipedia.org/wiki/Electric_dipole_moment). Specifically, plot the electrostatic potential of an electric dipole $\\vec{p}=(qd,0,0)$ in the (x,y) plane for the charge of an electron (in coulombs) at a distance d = 1 pm (picometer) using the dipole approximation.\r\n",
    "\r\n",
    "![](jnb_files/dipole.png)\r\n",
    "\r\n",
    "1. Define the constants you will need. (base unit meters)\r\n",
    "    * charge, permittivity of free space, etc.\r\n",
    "2. Using the meshgrid method of numpy, create the Cartesian axis with the origin at the diple (in meters).\r\n",
    "    * Hint: Use the linspace method of numpy to create 1000 events between -5e-11 and 5e-11 (ie. d = 1 pm)\r\n",
    "3. Define the electrostatic potential using the point dipole approximation\r\n",
    "    * This may be the most challenging part depending on what classes you have taken. If you are not familiar with vectors let me know and I can give you a quick explainer\r\n",
    "    * If you see a notation like $|a-b|$, this is the distance between two vectors. There is a built in numpy method called hypot which should be used for this.\r\n",
    "        * e.g. $|a-b|$ == np.hypot(a,b)\r\n",
    "4. Draw the contours at values of the electrostatic potential given\r\n",
    "    * [More info on contour plots](https://matplotlib.org/stable/api/_as_gen/matplotlib.pyplot.contour.html)\r\n",
    "    * To get this to work properly, you will also need to specify the contour lines at specified levels,\r\n",
    "        * Do this with the following code...\r\n",
    "            > levels = np.array([10**pw for pw in np.linspace(0,5,20)])\r\n",
    "            \r\n",
    "            > levels = sorted(list(-levels) + list(levels))"
   ],
   "metadata": {}
  },
  {
   "cell_type": "markdown",
   "source": [],
   "metadata": {}
  }
 ],
 "metadata": {
  "kernelspec": {
   "display_name": "Python 3",
   "language": "python",
   "name": "python3"
  },
  "language_info": {
   "codemirror_mode": {
    "name": "ipython",
    "version": 3
   },
   "file_extension": ".py",
   "mimetype": "text/x-python",
   "name": "python",
   "nbconvert_exporter": "python",
   "pygments_lexer": "ipython3",
   "version": "3.7.4"
  }
 },
 "nbformat": 4,
 "nbformat_minor": 2
}