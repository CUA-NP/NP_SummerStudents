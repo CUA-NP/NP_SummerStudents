{
 "metadata": {
  "language_info": {
   "codemirror_mode": {
    "name": "ipython",
    "version": 3
   },
   "file_extension": ".py",
   "mimetype": "text/x-python",
   "name": "python",
   "nbconvert_exporter": "python",
   "pygments_lexer": "ipython3",
   "version": "3.7.4"
  },
  "orig_nbformat": 4,
  "kernelspec": {
   "name": "python3",
   "display_name": "Python 3.7.4 32-bit"
  },
  "interpreter": {
   "hash": "b5fbe732dc808d22192b0237adceaec54532b06e14ec0963d54aea69bad7327c"
  }
 },
 "nbformat": 4,
 "nbformat_minor": 2,
 "cells": [
  {
   "source": [
    "# Python Tutorial 3\n",
    "\n",
    "Today will be a short intro to Pandas followed by a walk-through example.\n",
    "\n",
    "1. [Pandas](#pd)\n",
    "2. [Excercise](#ex)"
   ],
   "cell_type": "markdown",
   "metadata": {}
  },
  {
   "source": [
    "<a id='pd'></a>\n",
    "## Pandas \n",
    "\n",
    "Pandas is a python package designed for easy data analysis. The way I like to think about Pandas is a more dynamic and flexible excel sheet.\n",
    "\n",
    "What does this mean though? Let's check out some examples"
   ],
   "cell_type": "markdown",
   "metadata": {}
  },
  {
   "cell_type": "code",
   "execution_count": 106,
   "metadata": {},
   "outputs": [],
   "source": [
    "'''\n",
    "First we import pandas\n",
    "'''\n",
    "import pandas as pd"
   ]
  },
  {
   "source": [
    "We create what pandas calls a dataframe. A dataframe is simply a sort of table or 2D data structure that stores the data (eg an excel sheet or SQL sheet)"
   ],
   "cell_type": "markdown",
   "metadata": {}
  },
  {
   "cell_type": "code",
   "execution_count": 107,
   "metadata": {},
   "outputs": [
    {
     "output_type": "stream",
     "name": "stdout",
     "text": [
      "  Particle     Mass  Charge Quark Content\n0   Proton  0.93828       1           uud\n1  Neutron  0.93957       0           udd\n"
     ]
    }
   ],
   "source": [
    "df = pd.DataFrame(\n",
    "    {\n",
    "        \"Particle\" : [\n",
    "            \"Proton\",\n",
    "            \"Neutron\"\n",
    "        ],\n",
    "        \"Mass\" : [0.93828, 0.93957],\n",
    "        \"Charge\" : [1,0],\n",
    "        \"Quark Content\" : [\n",
    "            \"uud\",\n",
    "            \"udd\"\n",
    "        ]\n",
    "    }\n",
    ")\n",
    "print(df)"
   ]
  },
  {
   "cell_type": "code",
   "execution_count": 108,
   "metadata": {},
   "outputs": [
    {
     "output_type": "execute_result",
     "data": {
      "text/plain": [
       "0    0.93828\n",
       "1    0.93957\n",
       "Name: Mass, dtype: float64"
      ]
     },
     "metadata": {},
     "execution_count": 108
    }
   ],
   "source": [
    "'''\n",
    "We can call \"keys\" of this dataframe similar to a dictionary\n",
    "'''\n",
    "df[\"Mass\"]"
   ]
  },
  {
   "cell_type": "code",
   "execution_count": 109,
   "metadata": {},
   "outputs": [
    {
     "output_type": "execute_result",
     "data": {
      "text/plain": [
       "0.93957"
      ]
     },
     "metadata": {},
     "execution_count": 109
    }
   ],
   "source": [
    "'''\n",
    "There are built in functions for easy data analysis\n",
    "'''\n",
    "df[\"Mass\"].max()"
   ]
  },
  {
   "cell_type": "code",
   "execution_count": 110,
   "metadata": {},
   "outputs": [
    {
     "output_type": "execute_result",
     "data": {
      "text/plain": [
       "count    2.000000\n",
       "mean     0.938925\n",
       "std      0.000912\n",
       "min      0.938280\n",
       "25%      0.938603\n",
       "50%      0.938925\n",
       "75%      0.939248\n",
       "max      0.939570\n",
       "Name: Mass, dtype: float64"
      ]
     },
     "metadata": {},
     "execution_count": 110
    }
   ],
   "source": [
    "df[\"Mass\"].describe()"
   ]
  },
  {
   "cell_type": "code",
   "execution_count": 111,
   "metadata": {},
   "outputs": [
    {
     "output_type": "stream",
     "name": "stdout",
     "text": [
      "   CPULT_scaler  CPULT_scaler_uncern   HMS_eLT  HMS_eLT_uncern  \\\n0           0.0                  0.0  0.991765        0.001207   \n1           0.0                  0.0  0.998598        0.000738   \n2           0.0                  0.0  0.995865        0.000988   \n3           0.0                  0.0  0.982098        0.001445   \n4           0.0                  0.0  0.986321        0.001403   \n5           0.0                  0.0  0.982137        0.001471   \n6           0.0                  0.0  0.985926        0.001413   \n7           0.0                  0.0  0.991584        0.001220   \n8           0.0                  0.0  0.995784        0.001035   \n9           0.0                  0.0  0.998571        0.000779   \n\n   HMS_evts_scalar  HMS_evts_scalar_uncern  HMS_track  HMS_track_uncern  \\\n0             1031               32.109189        1.0          0.003628   \n1              221               14.866069        1.0          0.003682   \n2              598               24.454039        1.0          0.003571   \n3             1214               34.842503        1.0          0.004854   \n4              683               26.134269        1.0          0.006133   \n5             1002               31.654384        1.0          0.007086   \n6             1130               33.615473        1.0          0.005940   \n7              459               21.424285        1.0          0.007754   \n8              205               14.317821        1.0          0.008206   \n9               27                5.196152        1.0          0.014222   \n\n   Ktrack  Ktrack_uncern  ...  p_int_goodscin_evts  pitrack  pitrack_uncern  \\\n0     1.0       0.043685  ...           331.666667      1.0        0.009726   \n1     1.0       0.056842  ...            58.000000      1.0        0.011457   \n2     1.0       0.050965  ...           189.000000      1.0        0.010550   \n3     1.0       0.030715  ...           304.000000      1.0        0.008209   \n4     1.0       0.031599  ...           143.333333      1.0        0.007953   \n5     1.0       0.031944  ...           394.000000      1.0        0.008460   \n6     1.0       0.038590  ...           463.000000      1.0        0.009981   \n7     1.0       0.044901  ...           223.000000      1.0        0.010253   \n8     1.0       0.054473  ...            89.333333      1.0        0.011611   \n9     1.0       0.107521  ...            12.583333      1.0        0.021703   \n\n   ps1  ps3  ptrack  ptrack_uncern  run number  sent_edtm        time  \n0    0    2     1.0       0.254000        7841   635163.0  635.152185  \n1    0    2     1.0       0.377964        7846   774715.0  774.701786  \n2    0    2     1.0       0.277350        7847   707714.0  707.702599  \n3    0   65     1.0       0.172774        7864   686632.0  686.620509  \n4    0   65     1.0       0.229416        7865   585313.0  585.303249  \n5    0   33     1.0       0.154303        7948   637295.0  637.283446  \n6    0   17     1.0       0.136083        7949   584616.0  584.606309  \n7    0   17     1.0       0.208514        7950   623352.0  623.340230  \n8    0    9     1.0       0.308607        7951   596704.0  596.692468  \n9    0    9     1.0       0.707107        7952   727057.0  727.044794  \n\n[10 rows x 37 columns]\n"
     ]
    }
   ],
   "source": [
    "lumi = pd.read_csv(\"jnb_files/lumi_data.csv\")\n",
    "print(lumi)"
   ]
  },
  {
   "cell_type": "code",
   "execution_count": 112,
   "metadata": {},
   "outputs": [
    {
     "output_type": "execute_result",
     "data": {
      "text/plain": [
       "   CPULT_scaler  CPULT_scaler_uncern   HMS_eLT  HMS_eLT_uncern  \\\n",
       "0           0.0                  0.0  0.991765        0.001207   \n",
       "1           0.0                  0.0  0.998598        0.000738   \n",
       "\n",
       "   HMS_evts_scalar  HMS_evts_scalar_uncern  HMS_track  HMS_track_uncern  \\\n",
       "0             1031               32.109189        1.0          0.003628   \n",
       "1              221               14.866069        1.0          0.003682   \n",
       "\n",
       "   Ktrack  Ktrack_uncern  ...  p_int_goodscin_evts  pitrack  pitrack_uncern  \\\n",
       "0     1.0       0.043685  ...           331.666667      1.0        0.009726   \n",
       "1     1.0       0.056842  ...            58.000000      1.0        0.011457   \n",
       "\n",
       "   ps1  ps3  ptrack  ptrack_uncern  run number  sent_edtm        time  \n",
       "0    0    2     1.0       0.254000        7841   635163.0  635.152185  \n",
       "1    0    2     1.0       0.377964        7846   774715.0  774.701786  \n",
       "\n",
       "[2 rows x 37 columns]"
      ],
      "text/html": "<div>\n<style scoped>\n    .dataframe tbody tr th:only-of-type {\n        vertical-align: middle;\n    }\n\n    .dataframe tbody tr th {\n        vertical-align: top;\n    }\n\n    .dataframe thead th {\n        text-align: right;\n    }\n</style>\n<table border=\"1\" class=\"dataframe\">\n  <thead>\n    <tr style=\"text-align: right;\">\n      <th></th>\n      <th>CPULT_scaler</th>\n      <th>CPULT_scaler_uncern</th>\n      <th>HMS_eLT</th>\n      <th>HMS_eLT_uncern</th>\n      <th>HMS_evts_scalar</th>\n      <th>HMS_evts_scalar_uncern</th>\n      <th>HMS_track</th>\n      <th>HMS_track_uncern</th>\n      <th>Ktrack</th>\n      <th>Ktrack_uncern</th>\n      <th>...</th>\n      <th>p_int_goodscin_evts</th>\n      <th>pitrack</th>\n      <th>pitrack_uncern</th>\n      <th>ps1</th>\n      <th>ps3</th>\n      <th>ptrack</th>\n      <th>ptrack_uncern</th>\n      <th>run number</th>\n      <th>sent_edtm</th>\n      <th>time</th>\n    </tr>\n  </thead>\n  <tbody>\n    <tr>\n      <th>0</th>\n      <td>0.0</td>\n      <td>0.0</td>\n      <td>0.991765</td>\n      <td>0.001207</td>\n      <td>1031</td>\n      <td>32.109189</td>\n      <td>1.0</td>\n      <td>0.003628</td>\n      <td>1.0</td>\n      <td>0.043685</td>\n      <td>...</td>\n      <td>331.666667</td>\n      <td>1.0</td>\n      <td>0.009726</td>\n      <td>0</td>\n      <td>2</td>\n      <td>1.0</td>\n      <td>0.254000</td>\n      <td>7841</td>\n      <td>635163.0</td>\n      <td>635.152185</td>\n    </tr>\n    <tr>\n      <th>1</th>\n      <td>0.0</td>\n      <td>0.0</td>\n      <td>0.998598</td>\n      <td>0.000738</td>\n      <td>221</td>\n      <td>14.866069</td>\n      <td>1.0</td>\n      <td>0.003682</td>\n      <td>1.0</td>\n      <td>0.056842</td>\n      <td>...</td>\n      <td>58.000000</td>\n      <td>1.0</td>\n      <td>0.011457</td>\n      <td>0</td>\n      <td>2</td>\n      <td>1.0</td>\n      <td>0.377964</td>\n      <td>7846</td>\n      <td>774715.0</td>\n      <td>774.701786</td>\n    </tr>\n  </tbody>\n</table>\n<p>2 rows × 37 columns</p>\n</div>"
     },
     "metadata": {},
     "execution_count": 112
    }
   ],
   "source": [
    "'''\n",
    "Say we want to look at only the first two rows\n",
    "'''\n",
    "lumi.head(2)"
   ]
  },
  {
   "cell_type": "code",
   "execution_count": 113,
   "metadata": {},
   "outputs": [
    {
     "output_type": "execute_result",
     "data": {
      "text/plain": [
       "   CPULT_scaler  CPULT_scaler_uncern   HMS_eLT  HMS_eLT_uncern  \\\n",
       "8           0.0                  0.0  0.995784        0.001035   \n",
       "9           0.0                  0.0  0.998571        0.000779   \n",
       "\n",
       "   HMS_evts_scalar  HMS_evts_scalar_uncern  HMS_track  HMS_track_uncern  \\\n",
       "8              205               14.317821        1.0          0.008206   \n",
       "9               27                5.196152        1.0          0.014222   \n",
       "\n",
       "   Ktrack  Ktrack_uncern  ...  p_int_goodscin_evts  pitrack  pitrack_uncern  \\\n",
       "8     1.0       0.054473  ...            89.333333      1.0        0.011611   \n",
       "9     1.0       0.107521  ...            12.583333      1.0        0.021703   \n",
       "\n",
       "   ps1  ps3  ptrack  ptrack_uncern  run number  sent_edtm        time  \n",
       "8    0    9     1.0       0.308607        7951   596704.0  596.692468  \n",
       "9    0    9     1.0       0.707107        7952   727057.0  727.044794  \n",
       "\n",
       "[2 rows x 37 columns]"
      ],
      "text/html": "<div>\n<style scoped>\n    .dataframe tbody tr th:only-of-type {\n        vertical-align: middle;\n    }\n\n    .dataframe tbody tr th {\n        vertical-align: top;\n    }\n\n    .dataframe thead th {\n        text-align: right;\n    }\n</style>\n<table border=\"1\" class=\"dataframe\">\n  <thead>\n    <tr style=\"text-align: right;\">\n      <th></th>\n      <th>CPULT_scaler</th>\n      <th>CPULT_scaler_uncern</th>\n      <th>HMS_eLT</th>\n      <th>HMS_eLT_uncern</th>\n      <th>HMS_evts_scalar</th>\n      <th>HMS_evts_scalar_uncern</th>\n      <th>HMS_track</th>\n      <th>HMS_track_uncern</th>\n      <th>Ktrack</th>\n      <th>Ktrack_uncern</th>\n      <th>...</th>\n      <th>p_int_goodscin_evts</th>\n      <th>pitrack</th>\n      <th>pitrack_uncern</th>\n      <th>ps1</th>\n      <th>ps3</th>\n      <th>ptrack</th>\n      <th>ptrack_uncern</th>\n      <th>run number</th>\n      <th>sent_edtm</th>\n      <th>time</th>\n    </tr>\n  </thead>\n  <tbody>\n    <tr>\n      <th>8</th>\n      <td>0.0</td>\n      <td>0.0</td>\n      <td>0.995784</td>\n      <td>0.001035</td>\n      <td>205</td>\n      <td>14.317821</td>\n      <td>1.0</td>\n      <td>0.008206</td>\n      <td>1.0</td>\n      <td>0.054473</td>\n      <td>...</td>\n      <td>89.333333</td>\n      <td>1.0</td>\n      <td>0.011611</td>\n      <td>0</td>\n      <td>9</td>\n      <td>1.0</td>\n      <td>0.308607</td>\n      <td>7951</td>\n      <td>596704.0</td>\n      <td>596.692468</td>\n    </tr>\n    <tr>\n      <th>9</th>\n      <td>0.0</td>\n      <td>0.0</td>\n      <td>0.998571</td>\n      <td>0.000779</td>\n      <td>27</td>\n      <td>5.196152</td>\n      <td>1.0</td>\n      <td>0.014222</td>\n      <td>1.0</td>\n      <td>0.107521</td>\n      <td>...</td>\n      <td>12.583333</td>\n      <td>1.0</td>\n      <td>0.021703</td>\n      <td>0</td>\n      <td>9</td>\n      <td>1.0</td>\n      <td>0.707107</td>\n      <td>7952</td>\n      <td>727057.0</td>\n      <td>727.044794</td>\n    </tr>\n  </tbody>\n</table>\n<p>2 rows × 37 columns</p>\n</div>"
     },
     "metadata": {},
     "execution_count": 113
    }
   ],
   "source": [
    "lumi.tail(2)"
   ]
  },
  {
   "cell_type": "code",
   "execution_count": 114,
   "metadata": {},
   "outputs": [
    {
     "output_type": "execute_result",
     "data": {
      "text/plain": [
       "CPULT_scaler               float64\n",
       "CPULT_scaler_uncern        float64\n",
       "HMS_eLT                    float64\n",
       "HMS_eLT_uncern             float64\n",
       "HMS_evts_scalar              int64\n",
       "HMS_evts_scalar_uncern     float64\n",
       "HMS_track                  float64\n",
       "HMS_track_uncern           float64\n",
       "Ktrack                     float64\n",
       "Ktrack_uncern              float64\n",
       "SHMS_eLT                   float64\n",
       "SHMS_eLT_uncern            float64\n",
       "SHMS_evts_scalar             int64\n",
       "SHMS_evts_scalar_uncern    float64\n",
       "SHMS_track                 float64\n",
       "SHMS_track_uncern          float64\n",
       "TRIG1_cut                    int64\n",
       "TRIG1_scaler               float64\n",
       "TRIG3_cut                    int64\n",
       "TRIG3_scaler               float64\n",
       "accp_edtm                    int64\n",
       "charge                     float64\n",
       "etrack                     float64\n",
       "etrack_uncern              float64\n",
       "h_int_goodscin_evts        float64\n",
       "hadtrack                   float64\n",
       "hadtrack_uncern            float64\n",
       "p_int_goodscin_evts        float64\n",
       "pitrack                    float64\n",
       "pitrack_uncern             float64\n",
       "ps1                          int64\n",
       "ps3                          int64\n",
       "ptrack                     float64\n",
       "ptrack_uncern              float64\n",
       "run number                   int64\n",
       "sent_edtm                  float64\n",
       "time                       float64\n",
       "dtype: object"
      ]
     },
     "metadata": {},
     "execution_count": 114
    }
   ],
   "source": [
    "lumi.dtypes"
   ]
  },
  {
   "cell_type": "code",
   "execution_count": 115,
   "metadata": {},
   "outputs": [
    {
     "output_type": "stream",
     "name": "stdout",
     "text": [
      "<class 'pandas.core.frame.DataFrame'>\nRangeIndex: 10 entries, 0 to 9\nData columns (total 37 columns):\n #   Column                   Non-Null Count  Dtype  \n---  ------                   --------------  -----  \n 0   CPULT_scaler             10 non-null     float64\n 1   CPULT_scaler_uncern      10 non-null     float64\n 2   HMS_eLT                  10 non-null     float64\n 3   HMS_eLT_uncern           10 non-null     float64\n 4   HMS_evts_scalar          10 non-null     int64  \n 5   HMS_evts_scalar_uncern   10 non-null     float64\n 6   HMS_track                10 non-null     float64\n 7   HMS_track_uncern         10 non-null     float64\n 8   Ktrack                   10 non-null     float64\n 9   Ktrack_uncern            10 non-null     float64\n 10  SHMS_eLT                 10 non-null     float64\n 11  SHMS_eLT_uncern          10 non-null     float64\n 12  SHMS_evts_scalar         10 non-null     int64  \n 13  SHMS_evts_scalar_uncern  10 non-null     float64\n 14  SHMS_track               10 non-null     float64\n 15  SHMS_track_uncern        10 non-null     float64\n 16  TRIG1_cut                10 non-null     int64  \n 17  TRIG1_scaler             10 non-null     float64\n 18  TRIG3_cut                10 non-null     int64  \n 19  TRIG3_scaler             10 non-null     float64\n 20  accp_edtm                10 non-null     int64  \n 21  charge                   10 non-null     float64\n 22  etrack                   10 non-null     float64\n 23  etrack_uncern            10 non-null     float64\n 24  h_int_goodscin_evts      10 non-null     float64\n 25  hadtrack                 10 non-null     float64\n 26  hadtrack_uncern          10 non-null     float64\n 27  p_int_goodscin_evts      10 non-null     float64\n 28  pitrack                  10 non-null     float64\n 29  pitrack_uncern           10 non-null     float64\n 30  ps1                      10 non-null     int64  \n 31  ps3                      10 non-null     int64  \n 32  ptrack                   10 non-null     float64\n 33  ptrack_uncern            10 non-null     float64\n 34  run number               10 non-null     int64  \n 35  sent_edtm                10 non-null     float64\n 36  time                     10 non-null     float64\ndtypes: float64(29), int64(8)\nmemory usage: 3.0 KB\n"
     ]
    }
   ],
   "source": [
    "lumi.info()"
   ]
  },
  {
   "cell_type": "code",
   "execution_count": 116,
   "metadata": {},
   "outputs": [],
   "source": [
    "lumi.to_excel(\"jnb_files/lumi.xlsx\",sheet_name=\"lumisheet\",index=False) \n",
    "# Note: may need to do \"pip3 install openpyxl\" before running this command"
   ]
  },
  {
   "cell_type": "code",
   "execution_count": 117,
   "metadata": {},
   "outputs": [
    {
     "output_type": "stream",
     "name": "stdout",
     "text": [
      " Volume in drive C has no label.\n Volume Serial Number is 9C1B-09F5\n\n Directory of c:\\Users\\papatrott\\Documents\\CUA_summer_students\\weekly_work\\6_22_2021\\talks\\jnb_files\n\n06/24/2021  10:29 AM    <DIR>          .\n06/24/2021  10:29 AM    <DIR>          ..\n06/24/2021  10:01 AM                30 .gitignore\n06/24/2021  10:35 AM             8,241 lumi.xlsx\n06/24/2021  09:10 AM             4,876 lumi_data.csv\n               3 File(s)         13,147 bytes\n               2 Dir(s)  65,234,640,896 bytes free\n"
     ]
    }
   ],
   "source": [
    "ls \"jnb_files/\""
   ]
  },
  {
   "cell_type": "code",
   "execution_count": 118,
   "metadata": {},
   "outputs": [
    {
     "output_type": "stream",
     "name": "stdout",
     "text": [
      "   CPULT_scaler  CPULT_scaler_uncern   HMS_eLT  HMS_eLT_uncern  \\\n0             0                    0  0.991765        0.001207   \n1             0                    0  0.998598        0.000738   \n2             0                    0  0.995865        0.000988   \n3             0                    0  0.982098        0.001445   \n4             0                    0  0.986321        0.001403   \n5             0                    0  0.982137        0.001471   \n6             0                    0  0.985926        0.001413   \n7             0                    0  0.991584        0.001220   \n8             0                    0  0.995784        0.001035   \n9             0                    0  0.998571        0.000779   \n\n   HMS_evts_scalar  HMS_evts_scalar_uncern  HMS_track  HMS_track_uncern  \\\n0             1031               32.109189          1          0.003628   \n1              221               14.866069          1          0.003682   \n2              598               24.454039          1          0.003571   \n3             1214               34.842503          1          0.004854   \n4              683               26.134269          1          0.006133   \n5             1002               31.654384          1          0.007086   \n6             1130               33.615473          1          0.005940   \n7              459               21.424285          1          0.007754   \n8              205               14.317821          1          0.008206   \n9               27                5.196152          1          0.014222   \n\n   Ktrack  Ktrack_uncern  ...  p_int_goodscin_evts  pitrack  pitrack_uncern  \\\n0       1       0.043685  ...           331.666667        1        0.009726   \n1       1       0.056842  ...            58.000000        1        0.011457   \n2       1       0.050965  ...           189.000000        1        0.010550   \n3       1       0.030715  ...           304.000000        1        0.008209   \n4       1       0.031599  ...           143.333333        1        0.007953   \n5       1       0.031944  ...           394.000000        1        0.008460   \n6       1       0.038590  ...           463.000000        1        0.009981   \n7       1       0.044901  ...           223.000000        1        0.010253   \n8       1       0.054473  ...            89.333333        1        0.011611   \n9       1       0.107521  ...            12.583333        1        0.021703   \n\n   ps1  ps3  ptrack  ptrack_uncern  run number  sent_edtm        time  \n0    0    2       1       0.254000        7841     635163  635.152185  \n1    0    2       1       0.377964        7846     774715  774.701786  \n2    0    2       1       0.277350        7847     707714  707.702599  \n3    0   65       1       0.172774        7864     686632  686.620509  \n4    0   65       1       0.229416        7865     585313  585.303249  \n5    0   33       1       0.154303        7948     637295  637.283446  \n6    0   17       1       0.136083        7949     584616  584.606309  \n7    0   17       1       0.208514        7950     623352  623.340230  \n8    0    9       1       0.308607        7951     596704  596.692468  \n9    0    9       1       0.707107        7952     727057  727.044794  \n\n[10 rows x 37 columns]\n"
     ]
    }
   ],
   "source": [
    "'''\n",
    "Now we can redefine lumi variable as the excel sheet as a df\n",
    "'''\n",
    "lumi = pd.read_excel(\"jnb_files/lumi.xlsx\",sheet_name=\"lumisheet\")\n",
    "print(lumi)"
   ]
  },
  {
   "source": [
    "So there is the summary of pandas. We will now go into a fun example you all may enjoy.\n",
    "\n",
    "We are going to plot the location of the ISS!"
   ],
   "cell_type": "markdown",
   "metadata": {}
  },
  {
   "cell_type": "code",
   "execution_count": 119,
   "metadata": {},
   "outputs": [],
   "source": [
    "import pandas as pd\n",
    "# New plotting package that contains a map of the world\n",
    "import plotly.graph_objects as go"
   ]
  },
  {
   "cell_type": "code",
   "execution_count": 120,
   "metadata": {},
   "outputs": [
    {
     "output_type": "execute_result",
     "data": {
      "text/plain": [
       "           iss_position           timestamp  message\n",
       "latitude       -27.9421 2021-06-24 14:35:47  success\n",
       "longitude       18.9514 2021-06-24 14:35:47  success"
      ],
      "text/html": "<div>\n<style scoped>\n    .dataframe tbody tr th:only-of-type {\n        vertical-align: middle;\n    }\n\n    .dataframe tbody tr th {\n        vertical-align: top;\n    }\n\n    .dataframe thead th {\n        text-align: right;\n    }\n</style>\n<table border=\"1\" class=\"dataframe\">\n  <thead>\n    <tr style=\"text-align: right;\">\n      <th></th>\n      <th>iss_position</th>\n      <th>timestamp</th>\n      <th>message</th>\n    </tr>\n  </thead>\n  <tbody>\n    <tr>\n      <th>latitude</th>\n      <td>-27.9421</td>\n      <td>2021-06-24 14:35:47</td>\n      <td>success</td>\n    </tr>\n    <tr>\n      <th>longitude</th>\n      <td>18.9514</td>\n      <td>2021-06-24 14:35:47</td>\n      <td>success</td>\n    </tr>\n  </tbody>\n</table>\n</div>"
     },
     "metadata": {},
     "execution_count": 120
    }
   ],
   "source": [
    "'''\n",
    "Grab the ISS position and put into datafram\n",
    "'''\n",
    "url = 'http://api.open-notify.org/iss-now.json'\n",
    "df = pd.read_json(url)\n",
    "df"
   ]
  },
  {
   "cell_type": "code",
   "execution_count": 121,
   "metadata": {},
   "outputs": [
    {
     "output_type": "execute_result",
     "data": {
      "text/plain": [
       "   iss_position           timestamp  latitude  longitude  cnt\n",
       "0      -27.9421 2021-06-24 14:35:47  -27.9421    18.9514  red\n",
       "1       18.9514 2021-06-24 14:35:47  -27.9421    18.9514  red"
      ],
      "text/html": "<div>\n<style scoped>\n    .dataframe tbody tr th:only-of-type {\n        vertical-align: middle;\n    }\n\n    .dataframe tbody tr th {\n        vertical-align: top;\n    }\n\n    .dataframe thead th {\n        text-align: right;\n    }\n</style>\n<table border=\"1\" class=\"dataframe\">\n  <thead>\n    <tr style=\"text-align: right;\">\n      <th></th>\n      <th>iss_position</th>\n      <th>timestamp</th>\n      <th>latitude</th>\n      <th>longitude</th>\n      <th>cnt</th>\n    </tr>\n  </thead>\n  <tbody>\n    <tr>\n      <th>0</th>\n      <td>-27.9421</td>\n      <td>2021-06-24 14:35:47</td>\n      <td>-27.9421</td>\n      <td>18.9514</td>\n      <td>red</td>\n    </tr>\n    <tr>\n      <th>1</th>\n      <td>18.9514</td>\n      <td>2021-06-24 14:35:47</td>\n      <td>-27.9421</td>\n      <td>18.9514</td>\n      <td>red</td>\n    </tr>\n  </tbody>\n</table>\n</div>"
     },
     "metadata": {},
     "execution_count": 121
    }
   ],
   "source": [
    "'''\n",
    "Created two new columns for lat and lon then removing the old row labels of lat and lon.\n",
    "'''\n",
    "df['latitude'] = df.loc['latitude','iss_position']\n",
    "df['longitude'] = df.loc['longitude','iss_position']\n",
    "df['cnt'] = 'red'\n",
    "df.reset_index(inplace=True)\n",
    "df = df.drop(['index','message'], axis=1) # Remove these columns\n",
    "df"
   ]
  },
  {
   "cell_type": "code",
   "execution_count": 122,
   "metadata": {},
   "outputs": [
    {
     "output_type": "display_data",
     "data": {
      "application/vnd.plotly.v1+json": {
       "config": {
        "plotlyServerURL": "https://plot.ly"
       },
       "data": [
        {
         "lat": [
          -27.9421,
          -27.9421
         ],
         "lon": [
          18.9514,
          18.9514
         ],
         "marker": {
          "color": [
           "red",
           "red"
          ]
         },
         "mode": "markers",
         "type": "scattergeo"
        }
       ],
       "layout": {
        "template": {
         "data": {
          "bar": [
           {
            "error_x": {
             "color": "#2a3f5f"
            },
            "error_y": {
             "color": "#2a3f5f"
            },
            "marker": {
             "line": {
              "color": "#E5ECF6",
              "width": 0.5
             }
            },
            "type": "bar"
           }
          ],
          "barpolar": [
           {
            "marker": {
             "line": {
              "color": "#E5ECF6",
              "width": 0.5
             }
            },
            "type": "barpolar"
           }
          ],
          "carpet": [
           {
            "aaxis": {
             "endlinecolor": "#2a3f5f",
             "gridcolor": "white",
             "linecolor": "white",
             "minorgridcolor": "white",
             "startlinecolor": "#2a3f5f"
            },
            "baxis": {
             "endlinecolor": "#2a3f5f",
             "gridcolor": "white",
             "linecolor": "white",
             "minorgridcolor": "white",
             "startlinecolor": "#2a3f5f"
            },
            "type": "carpet"
           }
          ],
          "choropleth": [
           {
            "colorbar": {
             "outlinewidth": 0,
             "ticks": ""
            },
            "type": "choropleth"
           }
          ],
          "contour": [
           {
            "colorbar": {
             "outlinewidth": 0,
             "ticks": ""
            },
            "colorscale": [
             [
              0,
              "#0d0887"
             ],
             [
              0.1111111111111111,
              "#46039f"
             ],
             [
              0.2222222222222222,
              "#7201a8"
             ],
             [
              0.3333333333333333,
              "#9c179e"
             ],
             [
              0.4444444444444444,
              "#bd3786"
             ],
             [
              0.5555555555555556,
              "#d8576b"
             ],
             [
              0.6666666666666666,
              "#ed7953"
             ],
             [
              0.7777777777777778,
              "#fb9f3a"
             ],
             [
              0.8888888888888888,
              "#fdca26"
             ],
             [
              1,
              "#f0f921"
             ]
            ],
            "type": "contour"
           }
          ],
          "contourcarpet": [
           {
            "colorbar": {
             "outlinewidth": 0,
             "ticks": ""
            },
            "type": "contourcarpet"
           }
          ],
          "heatmap": [
           {
            "colorbar": {
             "outlinewidth": 0,
             "ticks": ""
            },
            "colorscale": [
             [
              0,
              "#0d0887"
             ],
             [
              0.1111111111111111,
              "#46039f"
             ],
             [
              0.2222222222222222,
              "#7201a8"
             ],
             [
              0.3333333333333333,
              "#9c179e"
             ],
             [
              0.4444444444444444,
              "#bd3786"
             ],
             [
              0.5555555555555556,
              "#d8576b"
             ],
             [
              0.6666666666666666,
              "#ed7953"
             ],
             [
              0.7777777777777778,
              "#fb9f3a"
             ],
             [
              0.8888888888888888,
              "#fdca26"
             ],
             [
              1,
              "#f0f921"
             ]
            ],
            "type": "heatmap"
           }
          ],
          "heatmapgl": [
           {
            "colorbar": {
             "outlinewidth": 0,
             "ticks": ""
            },
            "colorscale": [
             [
              0,
              "#0d0887"
             ],
             [
              0.1111111111111111,
              "#46039f"
             ],
             [
              0.2222222222222222,
              "#7201a8"
             ],
             [
              0.3333333333333333,
              "#9c179e"
             ],
             [
              0.4444444444444444,
              "#bd3786"
             ],
             [
              0.5555555555555556,
              "#d8576b"
             ],
             [
              0.6666666666666666,
              "#ed7953"
             ],
             [
              0.7777777777777778,
              "#fb9f3a"
             ],
             [
              0.8888888888888888,
              "#fdca26"
             ],
             [
              1,
              "#f0f921"
             ]
            ],
            "type": "heatmapgl"
           }
          ],
          "histogram": [
           {
            "marker": {
             "colorbar": {
              "outlinewidth": 0,
              "ticks": ""
             }
            },
            "type": "histogram"
           }
          ],
          "histogram2d": [
           {
            "colorbar": {
             "outlinewidth": 0,
             "ticks": ""
            },
            "colorscale": [
             [
              0,
              "#0d0887"
             ],
             [
              0.1111111111111111,
              "#46039f"
             ],
             [
              0.2222222222222222,
              "#7201a8"
             ],
             [
              0.3333333333333333,
              "#9c179e"
             ],
             [
              0.4444444444444444,
              "#bd3786"
             ],
             [
              0.5555555555555556,
              "#d8576b"
             ],
             [
              0.6666666666666666,
              "#ed7953"
             ],
             [
              0.7777777777777778,
              "#fb9f3a"
             ],
             [
              0.8888888888888888,
              "#fdca26"
             ],
             [
              1,
              "#f0f921"
             ]
            ],
            "type": "histogram2d"
           }
          ],
          "histogram2dcontour": [
           {
            "colorbar": {
             "outlinewidth": 0,
             "ticks": ""
            },
            "colorscale": [
             [
              0,
              "#0d0887"
             ],
             [
              0.1111111111111111,
              "#46039f"
             ],
             [
              0.2222222222222222,
              "#7201a8"
             ],
             [
              0.3333333333333333,
              "#9c179e"
             ],
             [
              0.4444444444444444,
              "#bd3786"
             ],
             [
              0.5555555555555556,
              "#d8576b"
             ],
             [
              0.6666666666666666,
              "#ed7953"
             ],
             [
              0.7777777777777778,
              "#fb9f3a"
             ],
             [
              0.8888888888888888,
              "#fdca26"
             ],
             [
              1,
              "#f0f921"
             ]
            ],
            "type": "histogram2dcontour"
           }
          ],
          "mesh3d": [
           {
            "colorbar": {
             "outlinewidth": 0,
             "ticks": ""
            },
            "type": "mesh3d"
           }
          ],
          "parcoords": [
           {
            "line": {
             "colorbar": {
              "outlinewidth": 0,
              "ticks": ""
             }
            },
            "type": "parcoords"
           }
          ],
          "pie": [
           {
            "automargin": true,
            "type": "pie"
           }
          ],
          "scatter": [
           {
            "marker": {
             "colorbar": {
              "outlinewidth": 0,
              "ticks": ""
             }
            },
            "type": "scatter"
           }
          ],
          "scatter3d": [
           {
            "line": {
             "colorbar": {
              "outlinewidth": 0,
              "ticks": ""
             }
            },
            "marker": {
             "colorbar": {
              "outlinewidth": 0,
              "ticks": ""
             }
            },
            "type": "scatter3d"
           }
          ],
          "scattercarpet": [
           {
            "marker": {
             "colorbar": {
              "outlinewidth": 0,
              "ticks": ""
             }
            },
            "type": "scattercarpet"
           }
          ],
          "scattergeo": [
           {
            "marker": {
             "colorbar": {
              "outlinewidth": 0,
              "ticks": ""
             }
            },
            "type": "scattergeo"
           }
          ],
          "scattergl": [
           {
            "marker": {
             "colorbar": {
              "outlinewidth": 0,
              "ticks": ""
             }
            },
            "type": "scattergl"
           }
          ],
          "scattermapbox": [
           {
            "marker": {
             "colorbar": {
              "outlinewidth": 0,
              "ticks": ""
             }
            },
            "type": "scattermapbox"
           }
          ],
          "scatterpolar": [
           {
            "marker": {
             "colorbar": {
              "outlinewidth": 0,
              "ticks": ""
             }
            },
            "type": "scatterpolar"
           }
          ],
          "scatterpolargl": [
           {
            "marker": {
             "colorbar": {
              "outlinewidth": 0,
              "ticks": ""
             }
            },
            "type": "scatterpolargl"
           }
          ],
          "scatterternary": [
           {
            "marker": {
             "colorbar": {
              "outlinewidth": 0,
              "ticks": ""
             }
            },
            "type": "scatterternary"
           }
          ],
          "surface": [
           {
            "colorbar": {
             "outlinewidth": 0,
             "ticks": ""
            },
            "colorscale": [
             [
              0,
              "#0d0887"
             ],
             [
              0.1111111111111111,
              "#46039f"
             ],
             [
              0.2222222222222222,
              "#7201a8"
             ],
             [
              0.3333333333333333,
              "#9c179e"
             ],
             [
              0.4444444444444444,
              "#bd3786"
             ],
             [
              0.5555555555555556,
              "#d8576b"
             ],
             [
              0.6666666666666666,
              "#ed7953"
             ],
             [
              0.7777777777777778,
              "#fb9f3a"
             ],
             [
              0.8888888888888888,
              "#fdca26"
             ],
             [
              1,
              "#f0f921"
             ]
            ],
            "type": "surface"
           }
          ],
          "table": [
           {
            "cells": {
             "fill": {
              "color": "#EBF0F8"
             },
             "line": {
              "color": "white"
             }
            },
            "header": {
             "fill": {
              "color": "#C8D4E3"
             },
             "line": {
              "color": "white"
             }
            },
            "type": "table"
           }
          ]
         },
         "layout": {
          "annotationdefaults": {
           "arrowcolor": "#2a3f5f",
           "arrowhead": 0,
           "arrowwidth": 1
          },
          "autotypenumbers": "strict",
          "coloraxis": {
           "colorbar": {
            "outlinewidth": 0,
            "ticks": ""
           }
          },
          "colorscale": {
           "diverging": [
            [
             0,
             "#8e0152"
            ],
            [
             0.1,
             "#c51b7d"
            ],
            [
             0.2,
             "#de77ae"
            ],
            [
             0.3,
             "#f1b6da"
            ],
            [
             0.4,
             "#fde0ef"
            ],
            [
             0.5,
             "#f7f7f7"
            ],
            [
             0.6,
             "#e6f5d0"
            ],
            [
             0.7,
             "#b8e186"
            ],
            [
             0.8,
             "#7fbc41"
            ],
            [
             0.9,
             "#4d9221"
            ],
            [
             1,
             "#276419"
            ]
           ],
           "sequential": [
            [
             0,
             "#0d0887"
            ],
            [
             0.1111111111111111,
             "#46039f"
            ],
            [
             0.2222222222222222,
             "#7201a8"
            ],
            [
             0.3333333333333333,
             "#9c179e"
            ],
            [
             0.4444444444444444,
             "#bd3786"
            ],
            [
             0.5555555555555556,
             "#d8576b"
            ],
            [
             0.6666666666666666,
             "#ed7953"
            ],
            [
             0.7777777777777778,
             "#fb9f3a"
            ],
            [
             0.8888888888888888,
             "#fdca26"
            ],
            [
             1,
             "#f0f921"
            ]
           ],
           "sequentialminus": [
            [
             0,
             "#0d0887"
            ],
            [
             0.1111111111111111,
             "#46039f"
            ],
            [
             0.2222222222222222,
             "#7201a8"
            ],
            [
             0.3333333333333333,
             "#9c179e"
            ],
            [
             0.4444444444444444,
             "#bd3786"
            ],
            [
             0.5555555555555556,
             "#d8576b"
            ],
            [
             0.6666666666666666,
             "#ed7953"
            ],
            [
             0.7777777777777778,
             "#fb9f3a"
            ],
            [
             0.8888888888888888,
             "#fdca26"
            ],
            [
             1,
             "#f0f921"
            ]
           ]
          },
          "colorway": [
           "#636efa",
           "#EF553B",
           "#00cc96",
           "#ab63fa",
           "#FFA15A",
           "#19d3f3",
           "#FF6692",
           "#B6E880",
           "#FF97FF",
           "#FECB52"
          ],
          "font": {
           "color": "#2a3f5f"
          },
          "geo": {
           "bgcolor": "white",
           "lakecolor": "white",
           "landcolor": "#E5ECF6",
           "showlakes": true,
           "showland": true,
           "subunitcolor": "white"
          },
          "hoverlabel": {
           "align": "left"
          },
          "hovermode": "closest",
          "mapbox": {
           "style": "light"
          },
          "paper_bgcolor": "white",
          "plot_bgcolor": "#E5ECF6",
          "polar": {
           "angularaxis": {
            "gridcolor": "white",
            "linecolor": "white",
            "ticks": ""
           },
           "bgcolor": "#E5ECF6",
           "radialaxis": {
            "gridcolor": "white",
            "linecolor": "white",
            "ticks": ""
           }
          },
          "scene": {
           "xaxis": {
            "backgroundcolor": "#E5ECF6",
            "gridcolor": "white",
            "gridwidth": 2,
            "linecolor": "white",
            "showbackground": true,
            "ticks": "",
            "zerolinecolor": "white"
           },
           "yaxis": {
            "backgroundcolor": "#E5ECF6",
            "gridcolor": "white",
            "gridwidth": 2,
            "linecolor": "white",
            "showbackground": true,
            "ticks": "",
            "zerolinecolor": "white"
           },
           "zaxis": {
            "backgroundcolor": "#E5ECF6",
            "gridcolor": "white",
            "gridwidth": 2,
            "linecolor": "white",
            "showbackground": true,
            "ticks": "",
            "zerolinecolor": "white"
           }
          },
          "shapedefaults": {
           "line": {
            "color": "#2a3f5f"
           }
          },
          "ternary": {
           "aaxis": {
            "gridcolor": "white",
            "linecolor": "white",
            "ticks": ""
           },
           "baxis": {
            "gridcolor": "white",
            "linecolor": "white",
            "ticks": ""
           },
           "bgcolor": "#E5ECF6",
           "caxis": {
            "gridcolor": "white",
            "linecolor": "white",
            "ticks": ""
           }
          },
          "title": {
           "x": 0.05
          },
          "xaxis": {
           "automargin": true,
           "gridcolor": "white",
           "linecolor": "white",
           "ticks": "",
           "title": {
            "standoff": 15
           },
           "zerolinecolor": "white",
           "zerolinewidth": 2
          },
          "yaxis": {
           "automargin": true,
           "gridcolor": "white",
           "linecolor": "white",
           "ticks": "",
           "title": {
            "standoff": 15
           },
           "zerolinecolor": "white",
           "zerolinewidth": 2
          }
         }
        }
       }
      }
     },
     "metadata": {}
    }
   ],
   "source": [
    "'''\n",
    "Show where the ISS is in plotly\n",
    "'''\n",
    "#fig = px.scatter_geo(df, lat='latitude',lon='longitude',color='cnt')\n",
    "fig = go.Figure(data=go.Scattergeo(lat=df['latitude'],lon=df['longitude'],mode='markers',marker_color=df['cnt']))\n",
    "fig.show()"
   ]
  },
  {
   "source": [
    "There is a lot more to Pandas but as a brief intro I think this is all you will need!"
   ],
   "cell_type": "markdown",
   "metadata": {}
  },
  {
   "source": [
    "<a id='ex'></a>\n",
    "## Excercise 3\n",
    "\n",
    "Use the resources you have available (Google is your best friend, especially [Stack Overflow](https://stackoverflow.com/). Also ask me on [slack](https://cua-reu-2021.slack.com/) if you're stuck!\n",
    "\n",
    "1. Use the available data on the titanic ([found here](https://github.com/pandas-dev/pandas/blob/master/doc/data/titanic.csv)) to analyze the data \n",
    "2. Drop the following columns from the data\n",
    "    * ticket, cabin, boat, body\n",
    "3. Check the proportion of people who survived\n",
    "    * Use the mean() method on 'survived'\n",
    "4. Repeat for age\n",
    "5. Group the data by catagory of sex and class then check the mean\n",
    "    * Use the groupby() method on 'sex' and 'pclass'\n",
    "6. Use these columns (ie 'survived', 'age', 'sex', 'pclass') to analyze which who were the 3 most likely groups to survive the Titanic"
   ],
   "cell_type": "markdown",
   "metadata": {}
  }
 ]
}