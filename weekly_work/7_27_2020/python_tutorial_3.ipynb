{
 "cells": [
  {
   "cell_type": "markdown",
   "metadata": {},
   "source": [
    "# ROOT Analysis\n",
    "\n",
    "Today I will outline some of the basics in root. These will not be accessible in jupyter so once your Jlab accounts are setup you can access this.\n",
    "\n",
    "1. [ROOT basics](#root)\n",
    "2. [ROOT in python](#python)\n",
    "3. [Excercise](#ex)"
   ]
  },
  {
   "cell_type": "markdown",
   "metadata": {},
   "source": [
    "<a id='root'></a>\n",
    "## ROOT basics\n",
    "\n",
    "In the jlab terminal start root with\n",
    "> user@login.jlab.org> root\n",
    "\n",
    "This will take you into a root subsystem where you can perform ROOT based commands. There are many commands you can perform such as plotting and manipulating the data, but we will only be interested in one command. Feel free to research more if you're curious. \n",
    "\n",
    "The command we are interested in is called *TBrowser* which will show us all the histograms inside the ROOT file.\n",
    "> root>new TBrowser"
   ]
  },
  {
   "cell_type": "markdown",
   "metadata": {},
   "source": [
    "<a id='python'></a>\n",
    "## ROOT in python\n",
    "\n",
    "Since you are more familiar with python we will continue analysis there. We use a python package called uproot (so make sure to pip this)."
   ]
  },
  {
   "cell_type": "code",
   "execution_count": 18,
   "metadata": {},
   "outputs": [],
   "source": [
    "# Import uproot package\n",
    "import uproot as up\n",
    "rootName=\"jnb_files/pid_coin_offline_7978_50000.root\"\n",
    "# Read in ROOT file. We call a group of histograms the tree and each histogram the branch or leaf. \n",
    "# In this case we open the tree called \"T\"\n",
    "tree = up.open(rootName)[\"T\"]\n",
    "\n",
    "# We are grabbing two histograms, one defining the energy of the missing mass and the other the momentum\n",
    "emiss = tree.array(\"P.kin.secondary.emiss\")\n",
    "pmiss = tree.array(\"P.kin.secondary.pmiss\")"
   ]
  },
  {
   "cell_type": "code",
   "execution_count": 19,
   "metadata": {},
   "outputs": [],
   "source": [
    "import numpy as np\n",
    "# We can define the actual missing mass using the Einstein mass-energy equation\n",
    "missmass = np.array(np.sqrt(abs(emiss*emiss-pmiss*pmiss)))"
   ]
  },
  {
   "cell_type": "code",
   "execution_count": 20,
   "metadata": {},
   "outputs": [
    {
     "data": {
      "text/plain": [
       "(array([  3.,   0.,   0.,   0.,   0.,   4.,   2.,   1.,   1.,   3.,   4.,\n",
       "          3.,   2.,   4.,   2.,   2.,   6.,   3.,   0.,   6.,   6.,   3.,\n",
       "          2.,   3.,   4.,   1.,   4.,   8.,   3.,   2.,   5.,   1.,   7.,\n",
       "          9.,   5.,   5.,   4.,   4.,   5.,   3.,   8.,   8.,   9.,   7.,\n",
       "          4.,   7.,   6.,  12.,  10.,   6.,   7.,   9.,   3.,  10.,   7.,\n",
       "          6.,   3.,   7.,   7.,  10.,   8.,  11.,  15.,  13.,  12.,  10.,\n",
       "          8.,   6.,  13.,  11.,  12.,  16.,  17.,  17.,  17.,  12.,  16.,\n",
       "         24.,  18.,  31.,  26.,  22.,  21.,  31.,  27.,  74., 182.,  79.,\n",
       "         60.,  44.,  38.,  34.,  48.,  50.,  46.,  46.,  46.,  60.,  53.,\n",
       "         60.,  60.,  70.,  77.,  67.,  67.,  64.,  81.,  85.,  90.,  97.,\n",
       "         86.,  75., 107., 121., 103., 102., 104., 116., 126., 111., 108.,\n",
       "        139., 130., 137., 129., 144., 124., 135., 161., 130., 154., 155.,\n",
       "        165., 172., 181., 200., 171., 159., 182., 193., 171., 165., 179.,\n",
       "        174., 173., 164., 171., 176., 170., 173., 158., 154., 182., 187.,\n",
       "        168., 151., 125., 127., 107., 107.,  89.,  68.,  85.,  64.,  61.,\n",
       "         31.,  51.,  31.,  22.,  18.,  29.,  11.,  12.,  14.,  13.,  13.,\n",
       "          9.,   9.,   9.,  13.,  11.,   9.,   6.,   4.,   4.,   5.,   7.,\n",
       "          6.,   6.,   4.,   1.,   2.,   3.,   6.,   2.,   5.,   5.,   9.,\n",
       "          3.,  10.]),\n",
       " array([0.1   , 0.1095, 0.119 , 0.1285, 0.138 , 0.1475, 0.157 , 0.1665,\n",
       "        0.176 , 0.1855, 0.195 , 0.2045, 0.214 , 0.2235, 0.233 , 0.2425,\n",
       "        0.252 , 0.2615, 0.271 , 0.2805, 0.29  , 0.2995, 0.309 , 0.3185,\n",
       "        0.328 , 0.3375, 0.347 , 0.3565, 0.366 , 0.3755, 0.385 , 0.3945,\n",
       "        0.404 , 0.4135, 0.423 , 0.4325, 0.442 , 0.4515, 0.461 , 0.4705,\n",
       "        0.48  , 0.4895, 0.499 , 0.5085, 0.518 , 0.5275, 0.537 , 0.5465,\n",
       "        0.556 , 0.5655, 0.575 , 0.5845, 0.594 , 0.6035, 0.613 , 0.6225,\n",
       "        0.632 , 0.6415, 0.651 , 0.6605, 0.67  , 0.6795, 0.689 , 0.6985,\n",
       "        0.708 , 0.7175, 0.727 , 0.7365, 0.746 , 0.7555, 0.765 , 0.7745,\n",
       "        0.784 , 0.7935, 0.803 , 0.8125, 0.822 , 0.8315, 0.841 , 0.8505,\n",
       "        0.86  , 0.8695, 0.879 , 0.8885, 0.898 , 0.9075, 0.917 , 0.9265,\n",
       "        0.936 , 0.9455, 0.955 , 0.9645, 0.974 , 0.9835, 0.993 , 1.0025,\n",
       "        1.012 , 1.0215, 1.031 , 1.0405, 1.05  , 1.0595, 1.069 , 1.0785,\n",
       "        1.088 , 1.0975, 1.107 , 1.1165, 1.126 , 1.1355, 1.145 , 1.1545,\n",
       "        1.164 , 1.1735, 1.183 , 1.1925, 1.202 , 1.2115, 1.221 , 1.2305,\n",
       "        1.24  , 1.2495, 1.259 , 1.2685, 1.278 , 1.2875, 1.297 , 1.3065,\n",
       "        1.316 , 1.3255, 1.335 , 1.3445, 1.354 , 1.3635, 1.373 , 1.3825,\n",
       "        1.392 , 1.4015, 1.411 , 1.4205, 1.43  , 1.4395, 1.449 , 1.4585,\n",
       "        1.468 , 1.4775, 1.487 , 1.4965, 1.506 , 1.5155, 1.525 , 1.5345,\n",
       "        1.544 , 1.5535, 1.563 , 1.5725, 1.582 , 1.5915, 1.601 , 1.6105,\n",
       "        1.62  , 1.6295, 1.639 , 1.6485, 1.658 , 1.6675, 1.677 , 1.6865,\n",
       "        1.696 , 1.7055, 1.715 , 1.7245, 1.734 , 1.7435, 1.753 , 1.7625,\n",
       "        1.772 , 1.7815, 1.791 , 1.8005, 1.81  , 1.8195, 1.829 , 1.8385,\n",
       "        1.848 , 1.8575, 1.867 , 1.8765, 1.886 , 1.8955, 1.905 , 1.9145,\n",
       "        1.924 , 1.9335, 1.943 , 1.9525, 1.962 , 1.9715, 1.981 , 1.9905,\n",
       "        2.    ]),\n",
       " <a list of 1 Patch objects>)"
      ]
     },
     "execution_count": 20,
     "metadata": {},
     "output_type": "execute_result"
    },
    {
     "data": {
      "image/png": "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\n",
      "text/plain": [
       "<Figure size 1169x827 with 1 Axes>"
      ]
     },
     "metadata": {},
     "output_type": "display_data"
    }
   ],
   "source": [
    "# We will then plot a simple histogram of the missing mass plot\n",
    "import matplotlib.pyplot as plt\n",
    "f = plt.figure(figsize=(11.69,8.27))\n",
    "plt.style.use('default')\n",
    "\n",
    "# When we define our histogram we can make a finer binning or more coarse binning with the \"bins\" flag\n",
    "# We also define a range because the missing mass will only be in a certain range of the the histogram space\n",
    "plt.hist(missmass,bins=200,range=(0.1,2.0),label='pi cut',histtype='step', alpha=0.5, stacked=True, fill=True)"
   ]
  },
  {
   "cell_type": "markdown",
   "metadata": {},
   "source": [
    "Now this is missing mass spectrum for all the particles in the spectrometers. We only want to isolate one particle, protons or $\\Lambda$s. This means we need to add cuts!"
   ]
  },
  {
   "cell_type": "markdown",
   "metadata": {},
   "source": [
    "<a id='root'></a>\n",
    "## Exercise 3\n",
    "\n",
<<<<<<< HEAD
    "You will need the above ROOT file. I will send it in a separate email since it is too large to add to GitHub.\n",
    "\n",
    "This one may be challenging. I want you to add a cut to the above plot. Eventually we will want a few cuts, so for now just worry about one cut. We will start simple by trying to isolate the proton events.\n",
    "\n",
=======
    "This one may be challenging. I want you to add a cut to the above plot. Eventually we will want a few cuts, so for now just worry about one cut. We will start simple by trying to isolate the proton events.\n",
    "\n",
    "\n",
>>>>>>> d42483e78354351265930e427417c7f42b37bd50
    "What I want is...\n",
    "\n",
    "* Put a line where the proton missing mass should be in the sprectrum\n",
    "    * **Hint:** The mass of the proton is 0.938\n",
    "* Apply a cut that includes the SHMS heavy gas cherenkov (the leaf name is P_hgcer_npeSum). The cut should be all events above the threshold of 1.5 GeV/c (this cut corresponds to pion events).\n",
    "    * **Hint:** Loops and if statements\n",
    "\n",
    "Of course, if you need help you may ask Tanja or I. Think like a physicist, use the resources you have! It's all there!"
   ]
  }
 ],
 "metadata": {
  "kernelspec": {
   "display_name": "Python 3",
   "language": "python",
   "name": "python3"
  },
  "language_info": {
   "codemirror_mode": {
    "name": "ipython",
    "version": 3
   },
   "file_extension": ".py",
   "mimetype": "text/x-python",
   "name": "python",
   "nbconvert_exporter": "python",
   "pygments_lexer": "ipython3",
   "version": "3.6.9"
  }
 },
 "nbformat": 4,
 "nbformat_minor": 4
}
